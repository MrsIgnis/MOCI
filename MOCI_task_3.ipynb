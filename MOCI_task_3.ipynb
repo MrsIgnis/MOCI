{
  "nbformat": 4,
  "nbformat_minor": 0,
  "metadata": {
    "colab": {
      "provenance": [],
      "authorship_tag": "ABX9TyMyDb2HnXnyE4WMxGmFJ9k8",
      "include_colab_link": true
    },
    "kernelspec": {
      "name": "python3",
      "display_name": "Python 3"
    },
    "language_info": {
      "name": "python"
    }
  },
  "cells": [
    {
      "cell_type": "markdown",
      "metadata": {
        "id": "view-in-github",
        "colab_type": "text"
      },
      "source": [
        "<a href=\"https://colab.research.google.com/github/MrsIgnis/MOCI/blob/main/MOCI_task_3.ipynb\" target=\"_parent\"><img src=\"https://colab.research.google.com/assets/colab-badge.svg\" alt=\"Open In Colab\"/></a>"
      ]
    },
    {
      "cell_type": "markdown",
      "source": [
        "**I. Создать нейронную сеть с нуля, т. е. не используя готовые библиотеки. Пример работы на любом табличном датасете**"
      ],
      "metadata": {
        "id": "9qfVhHX7RIii"
      }
    },
    {
      "cell_type": "code",
      "execution_count": 2,
      "metadata": {
        "id": "kOWsjfrDlN7a"
      },
      "outputs": [],
      "source": [
        "import numpy as np"
      ]
    },
    {
      "cell_type": "code",
      "source": [
        "def sigmoid(x: np.ndarray) -> np.ndarray:\n",
        "    return 1 / (1 + np.exp(-x))"
      ],
      "metadata": {
        "id": "8ajnoGqDlplj"
      },
      "execution_count": 3,
      "outputs": []
    },
    {
      "cell_type": "code",
      "source": [
        "def forward_pass(\n",
        "    X: np.ndarray,\n",
        "    W1: np.ndarray, b1: np.ndarray,\n",
        "    W2: np.ndarray, b2: np.ndarray,\n",
        "    W3: np.ndarray, b3: np.ndarray\n",
        ") -> tuple[np.ndarray, np.ndarray, np.ndarray]:\n",
        "\n",
        "    Z1 = np.dot(X, W1) + b1\n",
        "    A1 = sigmoid(Z1)\n",
        "\n",
        "    Z2 = np.dot(A1, W2) + b2\n",
        "    A2 = sigmoid(Z2)\n",
        "\n",
        "    Z3 = np.dot(A2, W3) + b3\n",
        "    A3 = sigmoid(Z3)\n",
        "\n",
        "    return A1, A2, A3"
      ],
      "metadata": {
        "id": "rxGh9YU6lsex"
      },
      "execution_count": 4,
      "outputs": []
    },
    {
      "cell_type": "code",
      "source": [
        "def initialize_weights(\n",
        "    input_neurons: int, hidden_neurons_1: int,\n",
        "    hidden_neurons_2: int, output_neurons: int\n",
        ") -> tuple[np.ndarray, np.ndarray, np.ndarray, np.ndarray, np.ndarray, np.ndarray]:\n",
        "\n",
        "    np.random.seed(42)\n",
        "    W1 = np.random.randn(input_neurons, hidden_neurons_1) * 0.1\n",
        "    b1 = np.zeros((1, hidden_neurons_1))\n",
        "\n",
        "    W2 = np.random.randn(hidden_neurons_1, hidden_neurons_2) * 0.1\n",
        "    b2 = np.zeros((1, hidden_neurons_2))\n",
        "\n",
        "    W3 = np.random.randn(hidden_neurons_2, output_neurons) * 0.1\n",
        "    b3 = np.zeros((1, output_neurons))\n",
        "\n",
        "    return W1, b1, W2, b2, W3, b3"
      ],
      "metadata": {
        "id": "GcVejZAblub2"
      },
      "execution_count": 5,
      "outputs": []
    },
    {
      "cell_type": "code",
      "source": [
        "def predict(\n",
        "    X: np.ndarray,\n",
        "    W1: np.ndarray, b1: np.ndarray,\n",
        "    W2: np.ndarray, b2: np.ndarray,\n",
        "    W3: np.ndarray, b3: np.ndarray\n",
        ") -> np.ndarray:\n",
        "\n",
        "    _, _, A3 = forward_pass(X, W1, b1, W2, b2, W3, b3)\n",
        "    return A3"
      ],
      "metadata": {
        "id": "-svUSGAWIe-8"
      },
      "execution_count": 6,
      "outputs": []
    },
    {
      "cell_type": "code",
      "source": [
        "dataset = np.array([\n",
        "    [22, 2, 1, 1, 38000],\n",
        "    [27, 3, 2, 1, 42000],\n",
        "    [34, 5, 4, 2, 47000],\n",
        "    [40, 8, 5, 3, 53000],\n",
        "    [45, 10, 6, 4, 60000],\n",
        "    [50, 12, 6, 5, 62000],\n",
        "    [26, 3, 3, 2, 44000],\n",
        "    [36, 7, 4, 3, 49000],\n",
        "    [42, 9, 5, 4, 55000],\n",
        "    [48, 11, 6, 4, 58000]\n",
        "])"
      ],
      "metadata": {
        "id": "cgbSwVuYIipL"
      },
      "execution_count": 7,
      "outputs": []
    },
    {
      "cell_type": "code",
      "source": [
        "X = dataset[:, :-1]\n",
        "y = dataset[:, -1].reshape(-1, 1) / 100000"
      ],
      "metadata": {
        "id": "ODSmstjMImnU"
      },
      "execution_count": 8,
      "outputs": []
    },
    {
      "cell_type": "code",
      "source": [
        "input_neurons = X.shape[1]\n",
        "hidden_neurons_1 = 10\n",
        "hidden_neurons_2 = 6\n",
        "output_neurons = 1"
      ],
      "metadata": {
        "id": "3ymd_2KWJKLu"
      },
      "execution_count": 9,
      "outputs": []
    },
    {
      "cell_type": "code",
      "source": [
        "W1, b1, W2, b2, W3, b3 = initialize_weights(input_neurons, hidden_neurons_1, hidden_neurons_2, output_neurons)"
      ],
      "metadata": {
        "id": "mUPfp1o-JR2Q"
      },
      "execution_count": 10,
      "outputs": []
    },
    {
      "cell_type": "code",
      "source": [
        "predictions = predict(X, W1, b1, W2, b2, W3, b3)\n",
        "predictions = predictions * 100000"
      ],
      "metadata": {
        "id": "m80Lj2xdB4ZA"
      },
      "execution_count": 11,
      "outputs": []
    },
    {
      "cell_type": "code",
      "source": [
        "print(f\"{'Возраст':<10} {'Опыт':<10} {'Образование':<15} {'Стаж':<10} {'Доход в датасете':<20} {'Предсказанный доход':<20}\")\n",
        "for i in range(len(X)):\n",
        "    print(f\"{X[i][0]:<10} {X[i][1]:<10} {X[i][2]:<15} {X[i][3]:<10} {y[i][0]*100000:<20} {predictions[i][0]:<20.2f}\")"
      ],
      "metadata": {
        "id": "eai1Rairlwjk",
        "colab": {
          "base_uri": "https://localhost:8080/"
        },
        "outputId": "8005cd48-de35-4add-eb8d-b16190dc3ddc"
      },
      "execution_count": 12,
      "outputs": [
        {
          "output_type": "stream",
          "name": "stdout",
          "text": [
            "Возраст    Опыт       Образование     Стаж       Доход в датасете     Предсказанный доход \n",
            "22         2          1               1          38000.0              46491.85            \n",
            "27         3          2               1          42000.0              46498.57            \n",
            "34         5          4               2          47000.0              46513.98            \n",
            "40         8          5               3          53000.0              46526.87            \n",
            "45         10         6               4          60000.0              46533.71            \n",
            "50         12         6               5          62000.0              46539.25            \n",
            "26         3          3               2          44000.0              46504.06            \n",
            "36         7          4               3          49000.0              46525.35            \n",
            "42         9          5               4          55000.00000000001    46533.64            \n",
            "48         11         6               4          57999.99999999999    46534.30            \n"
          ]
        }
      ]
    },
    {
      "cell_type": "markdown",
      "source": [
        "**II. Сделать класс, в котором реализована возможность задать количество нейронов какого-то из слоёв, и провести обучение**"
      ],
      "metadata": {
        "id": "nesNrfNcZbMN"
      }
    },
    {
      "cell_type": "code",
      "source": [
        "import pandas as pd"
      ],
      "metadata": {
        "id": "d5dhSSvJqG9_"
      },
      "execution_count": 223,
      "outputs": []
    },
    {
      "cell_type": "code",
      "source": [
        "df = pd.read_csv('/content/pokemon_dataset.csv')"
      ],
      "metadata": {
        "id": "lA-z90TBqInM"
      },
      "execution_count": 224,
      "outputs": []
    },
    {
      "cell_type": "code",
      "source": [
        "df"
      ],
      "metadata": {
        "colab": {
          "base_uri": "https://localhost:8080/",
          "height": 394
        },
        "id": "JQpG8rNvqM-b",
        "outputId": "543be95c-336f-4c87-b260-f551cbf0b4b5"
      },
      "execution_count": 225,
      "outputs": [
        {
          "output_type": "execute_result",
          "data": {
            "text/plain": [
              "       Pokemon  Level  Attack  Defense  Speed  Health\n",
              "0    Bulbasaur      5      49       49     45     318\n",
              "1      Ivysaur     16      62       63     60     405\n",
              "2     Venusaur     32      82       83     80     525\n",
              "3   Charmander      5      52       43     65     309\n",
              "4   Charmeleon     16      64       58     80     405\n",
              "5    Charizard     36      84       78    100     534\n",
              "6     Squirtle      5      48       65     43     314\n",
              "7    Wartortle     16      63       80     58     405\n",
              "8    Blastoise     36      83      100     78     530\n",
              "9      Pikachu      5      55       40     90     320\n",
              "10      Raichu     20      90       55    110     500"
            ],
            "text/html": [
              "\n",
              "  <div id=\"df-f51d9d03-2450-430f-b500-c2d670059073\" class=\"colab-df-container\">\n",
              "    <div>\n",
              "<style scoped>\n",
              "    .dataframe tbody tr th:only-of-type {\n",
              "        vertical-align: middle;\n",
              "    }\n",
              "\n",
              "    .dataframe tbody tr th {\n",
              "        vertical-align: top;\n",
              "    }\n",
              "\n",
              "    .dataframe thead th {\n",
              "        text-align: right;\n",
              "    }\n",
              "</style>\n",
              "<table border=\"1\" class=\"dataframe\">\n",
              "  <thead>\n",
              "    <tr style=\"text-align: right;\">\n",
              "      <th></th>\n",
              "      <th>Pokemon</th>\n",
              "      <th>Level</th>\n",
              "      <th>Attack</th>\n",
              "      <th>Defense</th>\n",
              "      <th>Speed</th>\n",
              "      <th>Health</th>\n",
              "    </tr>\n",
              "  </thead>\n",
              "  <tbody>\n",
              "    <tr>\n",
              "      <th>0</th>\n",
              "      <td>Bulbasaur</td>\n",
              "      <td>5</td>\n",
              "      <td>49</td>\n",
              "      <td>49</td>\n",
              "      <td>45</td>\n",
              "      <td>318</td>\n",
              "    </tr>\n",
              "    <tr>\n",
              "      <th>1</th>\n",
              "      <td>Ivysaur</td>\n",
              "      <td>16</td>\n",
              "      <td>62</td>\n",
              "      <td>63</td>\n",
              "      <td>60</td>\n",
              "      <td>405</td>\n",
              "    </tr>\n",
              "    <tr>\n",
              "      <th>2</th>\n",
              "      <td>Venusaur</td>\n",
              "      <td>32</td>\n",
              "      <td>82</td>\n",
              "      <td>83</td>\n",
              "      <td>80</td>\n",
              "      <td>525</td>\n",
              "    </tr>\n",
              "    <tr>\n",
              "      <th>3</th>\n",
              "      <td>Charmander</td>\n",
              "      <td>5</td>\n",
              "      <td>52</td>\n",
              "      <td>43</td>\n",
              "      <td>65</td>\n",
              "      <td>309</td>\n",
              "    </tr>\n",
              "    <tr>\n",
              "      <th>4</th>\n",
              "      <td>Charmeleon</td>\n",
              "      <td>16</td>\n",
              "      <td>64</td>\n",
              "      <td>58</td>\n",
              "      <td>80</td>\n",
              "      <td>405</td>\n",
              "    </tr>\n",
              "    <tr>\n",
              "      <th>5</th>\n",
              "      <td>Charizard</td>\n",
              "      <td>36</td>\n",
              "      <td>84</td>\n",
              "      <td>78</td>\n",
              "      <td>100</td>\n",
              "      <td>534</td>\n",
              "    </tr>\n",
              "    <tr>\n",
              "      <th>6</th>\n",
              "      <td>Squirtle</td>\n",
              "      <td>5</td>\n",
              "      <td>48</td>\n",
              "      <td>65</td>\n",
              "      <td>43</td>\n",
              "      <td>314</td>\n",
              "    </tr>\n",
              "    <tr>\n",
              "      <th>7</th>\n",
              "      <td>Wartortle</td>\n",
              "      <td>16</td>\n",
              "      <td>63</td>\n",
              "      <td>80</td>\n",
              "      <td>58</td>\n",
              "      <td>405</td>\n",
              "    </tr>\n",
              "    <tr>\n",
              "      <th>8</th>\n",
              "      <td>Blastoise</td>\n",
              "      <td>36</td>\n",
              "      <td>83</td>\n",
              "      <td>100</td>\n",
              "      <td>78</td>\n",
              "      <td>530</td>\n",
              "    </tr>\n",
              "    <tr>\n",
              "      <th>9</th>\n",
              "      <td>Pikachu</td>\n",
              "      <td>5</td>\n",
              "      <td>55</td>\n",
              "      <td>40</td>\n",
              "      <td>90</td>\n",
              "      <td>320</td>\n",
              "    </tr>\n",
              "    <tr>\n",
              "      <th>10</th>\n",
              "      <td>Raichu</td>\n",
              "      <td>20</td>\n",
              "      <td>90</td>\n",
              "      <td>55</td>\n",
              "      <td>110</td>\n",
              "      <td>500</td>\n",
              "    </tr>\n",
              "  </tbody>\n",
              "</table>\n",
              "</div>\n",
              "    <div class=\"colab-df-buttons\">\n",
              "\n",
              "  <div class=\"colab-df-container\">\n",
              "    <button class=\"colab-df-convert\" onclick=\"convertToInteractive('df-f51d9d03-2450-430f-b500-c2d670059073')\"\n",
              "            title=\"Convert this dataframe to an interactive table.\"\n",
              "            style=\"display:none;\">\n",
              "\n",
              "  <svg xmlns=\"http://www.w3.org/2000/svg\" height=\"24px\" viewBox=\"0 -960 960 960\">\n",
              "    <path d=\"M120-120v-720h720v720H120Zm60-500h600v-160H180v160Zm220 220h160v-160H400v160Zm0 220h160v-160H400v160ZM180-400h160v-160H180v160Zm440 0h160v-160H620v160ZM180-180h160v-160H180v160Zm440 0h160v-160H620v160Z\"/>\n",
              "  </svg>\n",
              "    </button>\n",
              "\n",
              "  <style>\n",
              "    .colab-df-container {\n",
              "      display:flex;\n",
              "      gap: 12px;\n",
              "    }\n",
              "\n",
              "    .colab-df-convert {\n",
              "      background-color: #E8F0FE;\n",
              "      border: none;\n",
              "      border-radius: 50%;\n",
              "      cursor: pointer;\n",
              "      display: none;\n",
              "      fill: #1967D2;\n",
              "      height: 32px;\n",
              "      padding: 0 0 0 0;\n",
              "      width: 32px;\n",
              "    }\n",
              "\n",
              "    .colab-df-convert:hover {\n",
              "      background-color: #E2EBFA;\n",
              "      box-shadow: 0px 1px 2px rgba(60, 64, 67, 0.3), 0px 1px 3px 1px rgba(60, 64, 67, 0.15);\n",
              "      fill: #174EA6;\n",
              "    }\n",
              "\n",
              "    .colab-df-buttons div {\n",
              "      margin-bottom: 4px;\n",
              "    }\n",
              "\n",
              "    [theme=dark] .colab-df-convert {\n",
              "      background-color: #3B4455;\n",
              "      fill: #D2E3FC;\n",
              "    }\n",
              "\n",
              "    [theme=dark] .colab-df-convert:hover {\n",
              "      background-color: #434B5C;\n",
              "      box-shadow: 0px 1px 3px 1px rgba(0, 0, 0, 0.15);\n",
              "      filter: drop-shadow(0px 1px 2px rgba(0, 0, 0, 0.3));\n",
              "      fill: #FFFFFF;\n",
              "    }\n",
              "  </style>\n",
              "\n",
              "    <script>\n",
              "      const buttonEl =\n",
              "        document.querySelector('#df-f51d9d03-2450-430f-b500-c2d670059073 button.colab-df-convert');\n",
              "      buttonEl.style.display =\n",
              "        google.colab.kernel.accessAllowed ? 'block' : 'none';\n",
              "\n",
              "      async function convertToInteractive(key) {\n",
              "        const element = document.querySelector('#df-f51d9d03-2450-430f-b500-c2d670059073');\n",
              "        const dataTable =\n",
              "          await google.colab.kernel.invokeFunction('convertToInteractive',\n",
              "                                                    [key], {});\n",
              "        if (!dataTable) return;\n",
              "\n",
              "        const docLinkHtml = 'Like what you see? Visit the ' +\n",
              "          '<a target=\"_blank\" href=https://colab.research.google.com/notebooks/data_table.ipynb>data table notebook</a>'\n",
              "          + ' to learn more about interactive tables.';\n",
              "        element.innerHTML = '';\n",
              "        dataTable['output_type'] = 'display_data';\n",
              "        await google.colab.output.renderOutput(dataTable, element);\n",
              "        const docLink = document.createElement('div');\n",
              "        docLink.innerHTML = docLinkHtml;\n",
              "        element.appendChild(docLink);\n",
              "      }\n",
              "    </script>\n",
              "  </div>\n",
              "\n",
              "\n",
              "<div id=\"df-56d7c0df-ab0b-43a3-a294-c3c5e9dba26f\">\n",
              "  <button class=\"colab-df-quickchart\" onclick=\"quickchart('df-56d7c0df-ab0b-43a3-a294-c3c5e9dba26f')\"\n",
              "            title=\"Suggest charts\"\n",
              "            style=\"display:none;\">\n",
              "\n",
              "<svg xmlns=\"http://www.w3.org/2000/svg\" height=\"24px\"viewBox=\"0 0 24 24\"\n",
              "     width=\"24px\">\n",
              "    <g>\n",
              "        <path d=\"M19 3H5c-1.1 0-2 .9-2 2v14c0 1.1.9 2 2 2h14c1.1 0 2-.9 2-2V5c0-1.1-.9-2-2-2zM9 17H7v-7h2v7zm4 0h-2V7h2v10zm4 0h-2v-4h2v4z\"/>\n",
              "    </g>\n",
              "</svg>\n",
              "  </button>\n",
              "\n",
              "<style>\n",
              "  .colab-df-quickchart {\n",
              "      --bg-color: #E8F0FE;\n",
              "      --fill-color: #1967D2;\n",
              "      --hover-bg-color: #E2EBFA;\n",
              "      --hover-fill-color: #174EA6;\n",
              "      --disabled-fill-color: #AAA;\n",
              "      --disabled-bg-color: #DDD;\n",
              "  }\n",
              "\n",
              "  [theme=dark] .colab-df-quickchart {\n",
              "      --bg-color: #3B4455;\n",
              "      --fill-color: #D2E3FC;\n",
              "      --hover-bg-color: #434B5C;\n",
              "      --hover-fill-color: #FFFFFF;\n",
              "      --disabled-bg-color: #3B4455;\n",
              "      --disabled-fill-color: #666;\n",
              "  }\n",
              "\n",
              "  .colab-df-quickchart {\n",
              "    background-color: var(--bg-color);\n",
              "    border: none;\n",
              "    border-radius: 50%;\n",
              "    cursor: pointer;\n",
              "    display: none;\n",
              "    fill: var(--fill-color);\n",
              "    height: 32px;\n",
              "    padding: 0;\n",
              "    width: 32px;\n",
              "  }\n",
              "\n",
              "  .colab-df-quickchart:hover {\n",
              "    background-color: var(--hover-bg-color);\n",
              "    box-shadow: 0 1px 2px rgba(60, 64, 67, 0.3), 0 1px 3px 1px rgba(60, 64, 67, 0.15);\n",
              "    fill: var(--button-hover-fill-color);\n",
              "  }\n",
              "\n",
              "  .colab-df-quickchart-complete:disabled,\n",
              "  .colab-df-quickchart-complete:disabled:hover {\n",
              "    background-color: var(--disabled-bg-color);\n",
              "    fill: var(--disabled-fill-color);\n",
              "    box-shadow: none;\n",
              "  }\n",
              "\n",
              "  .colab-df-spinner {\n",
              "    border: 2px solid var(--fill-color);\n",
              "    border-color: transparent;\n",
              "    border-bottom-color: var(--fill-color);\n",
              "    animation:\n",
              "      spin 1s steps(1) infinite;\n",
              "  }\n",
              "\n",
              "  @keyframes spin {\n",
              "    0% {\n",
              "      border-color: transparent;\n",
              "      border-bottom-color: var(--fill-color);\n",
              "      border-left-color: var(--fill-color);\n",
              "    }\n",
              "    20% {\n",
              "      border-color: transparent;\n",
              "      border-left-color: var(--fill-color);\n",
              "      border-top-color: var(--fill-color);\n",
              "    }\n",
              "    30% {\n",
              "      border-color: transparent;\n",
              "      border-left-color: var(--fill-color);\n",
              "      border-top-color: var(--fill-color);\n",
              "      border-right-color: var(--fill-color);\n",
              "    }\n",
              "    40% {\n",
              "      border-color: transparent;\n",
              "      border-right-color: var(--fill-color);\n",
              "      border-top-color: var(--fill-color);\n",
              "    }\n",
              "    60% {\n",
              "      border-color: transparent;\n",
              "      border-right-color: var(--fill-color);\n",
              "    }\n",
              "    80% {\n",
              "      border-color: transparent;\n",
              "      border-right-color: var(--fill-color);\n",
              "      border-bottom-color: var(--fill-color);\n",
              "    }\n",
              "    90% {\n",
              "      border-color: transparent;\n",
              "      border-bottom-color: var(--fill-color);\n",
              "    }\n",
              "  }\n",
              "</style>\n",
              "\n",
              "  <script>\n",
              "    async function quickchart(key) {\n",
              "      const quickchartButtonEl =\n",
              "        document.querySelector('#' + key + ' button');\n",
              "      quickchartButtonEl.disabled = true;  // To prevent multiple clicks.\n",
              "      quickchartButtonEl.classList.add('colab-df-spinner');\n",
              "      try {\n",
              "        const charts = await google.colab.kernel.invokeFunction(\n",
              "            'suggestCharts', [key], {});\n",
              "      } catch (error) {\n",
              "        console.error('Error during call to suggestCharts:', error);\n",
              "      }\n",
              "      quickchartButtonEl.classList.remove('colab-df-spinner');\n",
              "      quickchartButtonEl.classList.add('colab-df-quickchart-complete');\n",
              "    }\n",
              "    (() => {\n",
              "      let quickchartButtonEl =\n",
              "        document.querySelector('#df-56d7c0df-ab0b-43a3-a294-c3c5e9dba26f button');\n",
              "      quickchartButtonEl.style.display =\n",
              "        google.colab.kernel.accessAllowed ? 'block' : 'none';\n",
              "    })();\n",
              "  </script>\n",
              "</div>\n",
              "    </div>\n",
              "  </div>\n"
            ],
            "application/vnd.google.colaboratory.intrinsic+json": {
              "type": "dataframe",
              "variable_name": "df",
              "summary": "{\n  \"name\": \"df\",\n  \"rows\": 11,\n  \"fields\": [\n    {\n      \"column\": \"Pokemon\",\n      \"properties\": {\n        \"dtype\": \"string\",\n        \"num_unique_values\": 11,\n        \"samples\": [\n          \"Charizard\",\n          \"Bulbasaur\",\n          \"Pikachu\"\n        ],\n        \"semantic_type\": \"\",\n        \"description\": \"\"\n      }\n    },\n    {\n      \"column\": \"Level\",\n      \"properties\": {\n        \"dtype\": \"number\",\n        \"std\": 12,\n        \"min\": 5,\n        \"max\": 36,\n        \"num_unique_values\": 5,\n        \"samples\": [\n          16,\n          20,\n          32\n        ],\n        \"semantic_type\": \"\",\n        \"description\": \"\"\n      }\n    },\n    {\n      \"column\": \"Attack\",\n      \"properties\": {\n        \"dtype\": \"number\",\n        \"std\": 15,\n        \"min\": 48,\n        \"max\": 90,\n        \"num_unique_values\": 11,\n        \"samples\": [\n          84,\n          49,\n          55\n        ],\n        \"semantic_type\": \"\",\n        \"description\": \"\"\n      }\n    },\n    {\n      \"column\": \"Defense\",\n      \"properties\": {\n        \"dtype\": \"number\",\n        \"std\": 18,\n        \"min\": 40,\n        \"max\": 100,\n        \"num_unique_values\": 11,\n        \"samples\": [\n          78,\n          49,\n          40\n        ],\n        \"semantic_type\": \"\",\n        \"description\": \"\"\n      }\n    },\n    {\n      \"column\": \"Speed\",\n      \"properties\": {\n        \"dtype\": \"number\",\n        \"std\": 21,\n        \"min\": 43,\n        \"max\": 110,\n        \"num_unique_values\": 10,\n        \"samples\": [\n          90,\n          60,\n          43\n        ],\n        \"semantic_type\": \"\",\n        \"description\": \"\"\n      }\n    },\n    {\n      \"column\": \"Health\",\n      \"properties\": {\n        \"dtype\": \"number\",\n        \"std\": 93,\n        \"min\": 309,\n        \"max\": 534,\n        \"num_unique_values\": 9,\n        \"samples\": [\n          320,\n          405,\n          314\n        ],\n        \"semantic_type\": \"\",\n        \"description\": \"\"\n      }\n    }\n  ]\n}"
            }
          },
          "metadata": {},
          "execution_count": 225
        }
      ]
    },
    {
      "cell_type": "code",
      "source": [
        "X = df.drop(['Pokemon', 'Health'], axis=1).values\n",
        "y = df['Health'].values.reshape(-1, 1) / 1000\n",
        "pokemon_names = df['Pokemon'].values"
      ],
      "metadata": {
        "id": "6Ebug8u9qQ83"
      },
      "execution_count": 238,
      "outputs": []
    },
    {
      "cell_type": "code",
      "source": [
        "class NeuralNetwork:\n",
        "    def __init__(self, input_size: int, hidden1_size: int, hidden2_size: int, output_size: int, learning_rate: float = 0.1) -> None:\n",
        "        np.random.seed(42)\n",
        "        self.lr = learning_rate\n",
        "\n",
        "        self.W1 = np.random.randn(input_size, hidden1_size) * 0.1\n",
        "        self.b1 = np.zeros((1, hidden1_size))\n",
        "\n",
        "        self.W2 = np.random.randn(hidden1_size, hidden2_size) * 0.1\n",
        "        self.b2 = np.zeros((1, hidden2_size))\n",
        "\n",
        "        self.W3 = np.random.randn(hidden2_size, output_size) * 0.1\n",
        "        self.b3 = np.zeros((1, output_size))"
      ],
      "metadata": {
        "id": "BJXKNnEDZcSz"
      },
      "execution_count": 239,
      "outputs": []
    },
    {
      "cell_type": "code",
      "source": [
        "def sigmoid_derivative(x: np.ndarray) -> np.ndarray:\n",
        "    return x * (1 - x)"
      ],
      "metadata": {
        "id": "DJrKZcCZif6b"
      },
      "execution_count": 240,
      "outputs": []
    },
    {
      "cell_type": "code",
      "source": [
        "def forward(nn: NeuralNetwork, X: np.ndarray) -> np.ndarray:\n",
        "    nn.z1 = np.dot(X, nn.W1) + nn.b1\n",
        "    nn.a1 = sigmoid(nn.z1)\n",
        "\n",
        "    nn.z2 = np.dot(nn.a1, nn.W2) + nn.b2\n",
        "    nn.a2 = sigmoid(nn.z2)\n",
        "\n",
        "    nn.z3 = np.dot(nn.a2, nn.W3) + nn.b3\n",
        "    nn.a3 = sigmoid(nn.z3)\n",
        "\n",
        "    return nn.a3"
      ],
      "metadata": {
        "id": "I5L13wamihRX"
      },
      "execution_count": 241,
      "outputs": []
    },
    {
      "cell_type": "code",
      "source": [
        "def update_weights(nn: NeuralNetwork, X: np.ndarray, d_output: np.ndarray, d_z2: np.ndarray, d_z1: np.ndarray) -> None:\n",
        "    nn.W3 += nn.a2.T.dot(d_output) * nn.lr\n",
        "    nn.b3 += np.sum(d_output, axis=0, keepdims=True) * nn.lr\n",
        "\n",
        "    nn.W2 += nn.a1.T.dot(d_z2) * nn.lr\n",
        "    nn.b2 += np.sum(d_z2, axis=0, keepdims=True) * nn.lr\n",
        "\n",
        "    nn.W1 += X.T.dot(d_z1) * nn.lr\n",
        "    nn.b1 += np.sum(d_z1, axis=0, keepdims=True) * nn.lr"
      ],
      "metadata": {
        "id": "_arsuAnSnpTT"
      },
      "execution_count": 242,
      "outputs": []
    },
    {
      "cell_type": "code",
      "source": [
        "def backward(nn: NeuralNetwork, X: np.ndarray, y: np.ndarray, output: np.ndarray) -> None:\n",
        "    error = y - output\n",
        "    d_output = error * sigmoid_derivative(output)\n",
        "    d_z2 = d_output.dot(nn.W3.T) * sigmoid_derivative(nn.a2)\n",
        "    d_z1 = d_z2.dot(nn.W2.T) * sigmoid_derivative(nn.a1)\n",
        "\n",
        "    update_weights(nn, X, d_output, d_z2, d_z1)"
      ],
      "metadata": {
        "id": "9-1MuK-lZtfZ"
      },
      "execution_count": 243,
      "outputs": []
    },
    {
      "cell_type": "code",
      "source": [
        "def train(nn: NeuralNetwork, X: np.ndarray, y: np.ndarray, epochs: int = 1000) -> None:\n",
        "    for epoch in range(epochs):\n",
        "        output = forward(nn, X)\n",
        "        backward(nn, X, y, output)"
      ],
      "metadata": {
        "id": "tnFjBBRxaCdC"
      },
      "execution_count": 244,
      "outputs": []
    },
    {
      "cell_type": "code",
      "source": [
        "def predict(nn: NeuralNetwork, X: np.ndarray) -> np.ndarray:\n",
        "    return forward(nn, X)"
      ],
      "metadata": {
        "id": "z4Q-gCE4lbJx"
      },
      "execution_count": 245,
      "outputs": []
    },
    {
      "cell_type": "code",
      "source": [
        "nn = NeuralNetwork(\n",
        "    input_size=4,  # количество признаков (Level, Attack, Defense, Speed)\n",
        "    hidden1_size=10,\n",
        "    hidden2_size=6,\n",
        "    output_size=1,  # Прогнозируем только одно значение (Health)\n",
        "    learning_rate=0.5\n",
        ")"
      ],
      "metadata": {
        "id": "6mtdSzSZl8_m"
      },
      "execution_count": 246,
      "outputs": []
    },
    {
      "cell_type": "code",
      "source": [
        "train(nn, X, y, epochs=1000)\n",
        "predictions = predict(nn, X)"
      ],
      "metadata": {
        "id": "g_h-v6CQmCtw"
      },
      "execution_count": 247,
      "outputs": []
    },
    {
      "cell_type": "code",
      "source": [
        "print(f\"{'Pokemon':<15} {'Level':<10} {'Attack':<10} {'Defense':<15} {'Speed':<10} {'Health in dataset':<20} {'Predicted Health':<20}\")\n",
        "for i in range(len(X)):\n",
        "    print(f\"{pokemon_names[i]:<15} {X[i][0]:<10} {X[i][1]:<10} {X[i][2]:<15} {X[i][3]:<10} {y[i][0]*1000:<20.0f} {predictions[i][0]*1000:<20.2f}\")"
      ],
      "metadata": {
        "colab": {
          "base_uri": "https://localhost:8080/"
        },
        "id": "G1_6AigVj-jF",
        "outputId": "e2b1adac-86db-4f6e-d2c5-9c319452d90b"
      },
      "execution_count": 248,
      "outputs": [
        {
          "output_type": "stream",
          "name": "stdout",
          "text": [
            "Pokemon         Level      Attack     Defense         Speed      Health in dataset    Predicted Health    \n",
            "Bulbasaur       5          49         49              45         318                  415.00              \n",
            "Ivysaur         16         62         63              60         405                  415.00              \n",
            "Venusaur        32         82         83              80         525                  415.00              \n",
            "Charmander      5          52         43              65         309                  415.00              \n",
            "Charmeleon      16         64         58              80         405                  415.00              \n",
            "Charizard       36         84         78              100        534                  415.00              \n",
            "Squirtle        5          48         65              43         314                  415.00              \n",
            "Wartortle       16         63         80              58         405                  415.00              \n",
            "Blastoise       36         83         100             78         530                  415.00              \n",
            "Pikachu         5          55         40              90         320                  415.00              \n",
            "Raichu          20         90         55              110        500                  415.00              \n"
          ]
        }
      ]
    }
  ]
}