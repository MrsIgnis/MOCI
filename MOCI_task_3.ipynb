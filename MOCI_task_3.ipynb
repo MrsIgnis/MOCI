{
  "nbformat": 4,
  "nbformat_minor": 0,
  "metadata": {
    "colab": {
      "provenance": [],
      "authorship_tag": "ABX9TyOvBpv6mxiRxdUXuCPLpmtD",
      "include_colab_link": true
    },
    "kernelspec": {
      "name": "python3",
      "display_name": "Python 3"
    },
    "language_info": {
      "name": "python"
    }
  },
  "cells": [
    {
      "cell_type": "markdown",
      "metadata": {
        "id": "view-in-github",
        "colab_type": "text"
      },
      "source": [
        "<a href=\"https://colab.research.google.com/github/MrsIgnis/MOCI/blob/main/MOCI_task_3.ipynb\" target=\"_parent\"><img src=\"https://colab.research.google.com/assets/colab-badge.svg\" alt=\"Open In Colab\"/></a>"
      ]
    },
    {
      "cell_type": "markdown",
      "source": [
        "**Создание многослойной нейронной сети вручную (без использования готовых библиотек и без обратного распространения ошибки -> веса вычисляются рандомно)**"
      ],
      "metadata": {
        "id": "9qfVhHX7RIii"
      }
    },
    {
      "cell_type": "code",
      "execution_count": 1,
      "metadata": {
        "id": "kOWsjfrDlN7a"
      },
      "outputs": [],
      "source": [
        "import numpy as np"
      ]
    },
    {
      "cell_type": "code",
      "source": [
        "def sigmoid(x: np.ndarray) -> np.ndarray:\n",
        "    return 1 / (1 + np.exp(-x))"
      ],
      "metadata": {
        "id": "8ajnoGqDlplj"
      },
      "execution_count": 32,
      "outputs": []
    },
    {
      "cell_type": "code",
      "source": [
        "def forward_pass(\n",
        "    X: np.ndarray,\n",
        "    W1: np.ndarray, b1: np.ndarray,\n",
        "    W2: np.ndarray, b2: np.ndarray,\n",
        "    W3: np.ndarray, b3: np.ndarray\n",
        ") -> tuple[np.ndarray, np.ndarray, np.ndarray]:\n",
        "\n",
        "    Z1 = np.dot(X, W1) + b1\n",
        "    A1 = sigmoid(Z1)\n",
        "\n",
        "    Z2 = np.dot(A1, W2) + b2\n",
        "    A2 = sigmoid(Z2)\n",
        "\n",
        "    Z3 = np.dot(A2, W3) + b3\n",
        "    A3 = sigmoid(Z3)\n",
        "\n",
        "    return A1, A2, A3"
      ],
      "metadata": {
        "id": "rxGh9YU6lsex"
      },
      "execution_count": 33,
      "outputs": []
    },
    {
      "cell_type": "code",
      "source": [
        "def initialize_weights(\n",
        "    input_neurons: int, hidden_neurons_1: int,\n",
        "    hidden_neurons_2: int, output_neurons: int\n",
        ") -> tuple[np.ndarray, np.ndarray, np.ndarray, np.ndarray, np.ndarray, np.ndarray]:\n",
        "\n",
        "    np.random.seed(42)\n",
        "    W1 = np.random.randn(input_neurons, hidden_neurons_1) * 0.1\n",
        "    b1 = np.zeros((1, hidden_neurons_1))\n",
        "\n",
        "    W2 = np.random.randn(hidden_neurons_1, hidden_neurons_2) * 0.1\n",
        "    b2 = np.zeros((1, hidden_neurons_2))\n",
        "\n",
        "    W3 = np.random.randn(hidden_neurons_2, output_neurons) * 0.1\n",
        "    b3 = np.zeros((1, output_neurons))\n",
        "\n",
        "    return W1, b1, W2, b2, W3, b3"
      ],
      "metadata": {
        "id": "GcVejZAblub2"
      },
      "execution_count": 35,
      "outputs": []
    },
    {
      "cell_type": "code",
      "source": [
        "def predict(\n",
        "    X: np.ndarray,\n",
        "    W1: np.ndarray, b1: np.ndarray,\n",
        "    W2: np.ndarray, b2: np.ndarray,\n",
        "    W3: np.ndarray, b3: np.ndarray\n",
        ") -> np.ndarray:\n",
        "\n",
        "    _, _, A3 = forward_pass(X, W1, b1, W2, b2, W3, b3)\n",
        "    return A3"
      ],
      "metadata": {
        "id": "-svUSGAWIe-8"
      },
      "execution_count": 38,
      "outputs": []
    },
    {
      "cell_type": "code",
      "source": [
        "dataset = np.array([\n",
        "    [22, 2, 1, 1, 38000],\n",
        "    [27, 3, 2, 1, 42000],\n",
        "    [34, 5, 4, 2, 47000],\n",
        "    [40, 8, 5, 3, 53000],\n",
        "    [45, 10, 6, 4, 60000],\n",
        "    [50, 12, 6, 5, 62000],\n",
        "    [26, 3, 3, 2, 44000],\n",
        "    [36, 7, 4, 3, 49000],\n",
        "    [42, 9, 5, 4, 55000],\n",
        "    [48, 11, 6, 4, 58000]\n",
        "])"
      ],
      "metadata": {
        "id": "cgbSwVuYIipL"
      },
      "execution_count": 58,
      "outputs": []
    },
    {
      "cell_type": "code",
      "source": [
        "X = dataset[:, :-1]\n",
        "y = dataset[:, -1].reshape(-1, 1) / 100000"
      ],
      "metadata": {
        "id": "ODSmstjMImnU"
      },
      "execution_count": 59,
      "outputs": []
    },
    {
      "cell_type": "code",
      "source": [
        "input_neurons = X.shape[1]\n",
        "hidden_neurons_1 = 10\n",
        "hidden_neurons_2 = 6\n",
        "output_neurons = 1"
      ],
      "metadata": {
        "id": "3ymd_2KWJKLu"
      },
      "execution_count": 60,
      "outputs": []
    },
    {
      "cell_type": "code",
      "source": [
        "W1, b1, W2, b2, W3, b3 = initialize_weights(input_neurons, hidden_neurons_1, hidden_neurons_2, output_neurons)"
      ],
      "metadata": {
        "id": "mUPfp1o-JR2Q"
      },
      "execution_count": 61,
      "outputs": []
    },
    {
      "cell_type": "code",
      "source": [
        "predictions = predict(X, W1, b1, W2, b2, W3, b3)\n",
        "predictions = predictions * 100000"
      ],
      "metadata": {
        "id": "m80Lj2xdB4ZA"
      },
      "execution_count": 62,
      "outputs": []
    },
    {
      "cell_type": "code",
      "source": [
        "print(f\"{'Возраст':<10} {'Опыт':<10} {'Образование':<15} {'Стаж':<10} {'Доход в датасете':<20} {'Предсказанный доход':<20}\")\n",
        "for i in range(len(X)):\n",
        "    print(f\"{X[i][0]:<10} {X[i][1]:<10} {X[i][2]:<15} {X[i][3]:<10} {y[i][0]*100000:<20} {predictions[i][0]:<20.2f}\")"
      ],
      "metadata": {
        "id": "eai1Rairlwjk",
        "colab": {
          "base_uri": "https://localhost:8080/"
        },
        "outputId": "72f3a4a1-fc3a-44d5-ae32-202304ef336c"
      },
      "execution_count": 63,
      "outputs": [
        {
          "output_type": "stream",
          "name": "stdout",
          "text": [
            "Возраст    Опыт       Образование     Стаж       Доход в датасете     Предсказанный доход \n",
            "22         2          1               1          38000.0              46491.85            \n",
            "27         3          2               1          42000.0              46498.57            \n",
            "34         5          4               2          47000.0              46513.98            \n",
            "40         8          5               3          53000.0              46526.87            \n",
            "45         10         6               4          60000.0              46533.71            \n",
            "50         12         6               5          62000.0              46539.25            \n",
            "26         3          3               2          44000.0              46504.06            \n",
            "36         7          4               3          49000.0              46525.35            \n",
            "42         9          5               4          55000.00000000001    46533.64            \n",
            "48         11         6               4          57999.99999999999    46534.30            \n"
          ]
        }
      ]
    }
  ]
}