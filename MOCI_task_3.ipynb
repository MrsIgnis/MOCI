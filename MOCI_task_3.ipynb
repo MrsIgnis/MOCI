{
  "nbformat": 4,
  "nbformat_minor": 0,
  "metadata": {
    "colab": {
      "provenance": [],
      "authorship_tag": "ABX9TyP69vSTjIXlfJvoUJvu1tZX",
      "include_colab_link": true
    },
    "kernelspec": {
      "name": "python3",
      "display_name": "Python 3"
    },
    "language_info": {
      "name": "python"
    }
  },
  "cells": [
    {
      "cell_type": "markdown",
      "metadata": {
        "id": "view-in-github",
        "colab_type": "text"
      },
      "source": [
        "<a href=\"https://colab.research.google.com/github/MrsIgnis/MOCI/blob/main/MOCI_task_3.ipynb\" target=\"_parent\"><img src=\"https://colab.research.google.com/assets/colab-badge.svg\" alt=\"Open In Colab\"/></a>"
      ]
    },
    {
      "cell_type": "markdown",
      "source": [
        "**I. Создать нейронную сеть с нуля, т. е. не используя готовые библиотеки. Пример работы на любом табличном датасете**"
      ],
      "metadata": {
        "id": "9qfVhHX7RIii"
      }
    },
    {
      "cell_type": "code",
      "execution_count": 325,
      "metadata": {
        "id": "kOWsjfrDlN7a"
      },
      "outputs": [],
      "source": [
        "import numpy as np\n",
        "import pandas as pd"
      ]
    },
    {
      "cell_type": "code",
      "source": [
        "def sigmoid(x: np.ndarray) -> np.ndarray:\n",
        "    return 1 / (1 + np.exp(-x))"
      ],
      "metadata": {
        "id": "8ajnoGqDlplj"
      },
      "execution_count": null,
      "outputs": []
    },
    {
      "cell_type": "code",
      "source": [
        "def forward_pass(\n",
        "    X: np.ndarray,\n",
        "    W1: np.ndarray, b1: np.ndarray,\n",
        "    W2: np.ndarray, b2: np.ndarray,\n",
        "    W3: np.ndarray, b3: np.ndarray\n",
        ") -> tuple[np.ndarray, np.ndarray, np.ndarray]:\n",
        "\n",
        "    Z1 = np.dot(X, W1) + b1\n",
        "    A1 = sigmoid(Z1)\n",
        "\n",
        "    Z2 = np.dot(A1, W2) + b2\n",
        "    A2 = sigmoid(Z2)\n",
        "\n",
        "    Z3 = np.dot(A2, W3) + b3\n",
        "    A3 = sigmoid(Z3)\n",
        "\n",
        "    return A1, A2, A3"
      ],
      "metadata": {
        "id": "rxGh9YU6lsex"
      },
      "execution_count": null,
      "outputs": []
    },
    {
      "cell_type": "code",
      "source": [
        "def initialize_weights(\n",
        "    input_neurons: int, hidden_neurons_1: int,\n",
        "    hidden_neurons_2: int, output_neurons: int\n",
        ") -> tuple[np.ndarray, np.ndarray, np.ndarray, np.ndarray, np.ndarray, np.ndarray]:\n",
        "\n",
        "    np.random.seed(42)\n",
        "    W1 = np.random.randn(input_neurons, hidden_neurons_1) * 0.1\n",
        "    b1 = np.zeros((1, hidden_neurons_1))\n",
        "\n",
        "    W2 = np.random.randn(hidden_neurons_1, hidden_neurons_2) * 0.1\n",
        "    b2 = np.zeros((1, hidden_neurons_2))\n",
        "\n",
        "    W3 = np.random.randn(hidden_neurons_2, output_neurons) * 0.1\n",
        "    b3 = np.zeros((1, output_neurons))\n",
        "\n",
        "    return W1, b1, W2, b2, W3, b3"
      ],
      "metadata": {
        "id": "GcVejZAblub2"
      },
      "execution_count": null,
      "outputs": []
    },
    {
      "cell_type": "code",
      "source": [
        "def predict(\n",
        "    X: np.ndarray,\n",
        "    W1: np.ndarray, b1: np.ndarray,\n",
        "    W2: np.ndarray, b2: np.ndarray,\n",
        "    W3: np.ndarray, b3: np.ndarray\n",
        ") -> np.ndarray:\n",
        "\n",
        "    _, _, A3 = forward_pass(X, W1, b1, W2, b2, W3, b3)\n",
        "    return A3"
      ],
      "metadata": {
        "id": "-svUSGAWIe-8"
      },
      "execution_count": null,
      "outputs": []
    },
    {
      "cell_type": "code",
      "source": [
        "dataset = np.array([\n",
        "    [22, 2, 1, 1, 38000],\n",
        "    [27, 3, 2, 1, 42000],\n",
        "    [34, 5, 4, 2, 47000],\n",
        "    [40, 8, 5, 3, 53000],\n",
        "    [45, 10, 6, 4, 60000],\n",
        "    [50, 12, 6, 5, 62000],\n",
        "    [26, 3, 3, 2, 44000],\n",
        "    [36, 7, 4, 3, 49000],\n",
        "    [42, 9, 5, 4, 55000],\n",
        "    [48, 11, 6, 4, 58000]\n",
        "])"
      ],
      "metadata": {
        "id": "cgbSwVuYIipL"
      },
      "execution_count": null,
      "outputs": []
    },
    {
      "cell_type": "code",
      "source": [
        "X = dataset[:, :-1]\n",
        "y = dataset[:, -1].reshape(-1, 1) / 100000"
      ],
      "metadata": {
        "id": "ODSmstjMImnU"
      },
      "execution_count": null,
      "outputs": []
    },
    {
      "cell_type": "code",
      "source": [
        "input_neurons = X.shape[1]\n",
        "hidden_neurons_1 = 10\n",
        "hidden_neurons_2 = 6\n",
        "output_neurons = 1"
      ],
      "metadata": {
        "id": "3ymd_2KWJKLu"
      },
      "execution_count": null,
      "outputs": []
    },
    {
      "cell_type": "code",
      "source": [
        "W1, b1, W2, b2, W3, b3 = initialize_weights(input_neurons, hidden_neurons_1, hidden_neurons_2, output_neurons)"
      ],
      "metadata": {
        "id": "mUPfp1o-JR2Q"
      },
      "execution_count": null,
      "outputs": []
    },
    {
      "cell_type": "code",
      "source": [
        "predictions = predict(X, W1, b1, W2, b2, W3, b3)\n",
        "predictions = predictions * 100000"
      ],
      "metadata": {
        "id": "m80Lj2xdB4ZA"
      },
      "execution_count": null,
      "outputs": []
    },
    {
      "cell_type": "code",
      "source": [
        "print(f\"{'Возраст':<10} {'Опыт':<10} {'Образование':<15} {'Стаж':<10} {'Доход в датасете':<20} {'Предсказанный доход':<20}\")\n",
        "for i in range(len(X)):\n",
        "    print(f\"{X[i][0]:<10} {X[i][1]:<10} {X[i][2]:<15} {X[i][3]:<10} {y[i][0]*100000:<20} {predictions[i][0]:<20.2f}\")"
      ],
      "metadata": {
        "id": "eai1Rairlwjk",
        "colab": {
          "base_uri": "https://localhost:8080/"
        },
        "outputId": "a9ebf79f-3c08-465f-e9cc-c935edc3dab2"
      },
      "execution_count": null,
      "outputs": [
        {
          "output_type": "stream",
          "name": "stdout",
          "text": [
            "Возраст    Опыт       Образование     Стаж       Доход в датасете     Предсказанный доход \n",
            "22         2          1               1          38000.0              46491.85            \n",
            "27         3          2               1          42000.0              46498.57            \n",
            "34         5          4               2          47000.0              46513.98            \n",
            "40         8          5               3          53000.0              46526.87            \n",
            "45         10         6               4          60000.0              46533.71            \n",
            "50         12         6               5          62000.0              46539.25            \n",
            "26         3          3               2          44000.0              46504.06            \n",
            "36         7          4               3          49000.0              46525.35            \n",
            "42         9          5               4          55000.00000000001    46533.64            \n",
            "48         11         6               4          57999.99999999999    46534.30            \n"
          ]
        }
      ]
    },
    {
      "cell_type": "markdown",
      "source": [
        "**II. Сделать класс, в котором реализована возможность задать количество нейронов какого-то из слоёв, и провести обучение**"
      ],
      "metadata": {
        "id": "nesNrfNcZbMN"
      }
    },
    {
      "cell_type": "code",
      "source": [
        "df = pd.read_csv('/content/pokemon_dataset.csv')"
      ],
      "metadata": {
        "id": "lA-z90TBqInM"
      },
      "execution_count": null,
      "outputs": []
    },
    {
      "cell_type": "code",
      "source": [
        "df"
      ],
      "metadata": {
        "colab": {
          "base_uri": "https://localhost:8080/",
          "height": 394
        },
        "id": "JQpG8rNvqM-b",
        "outputId": "869de152-8df7-4c64-ffe4-59194024639e"
      },
      "execution_count": null,
      "outputs": [
        {
          "output_type": "execute_result",
          "data": {
            "text/plain": [
              "       Pokemon  Level  Attack  Defense  Speed  Health\n",
              "0    Bulbasaur      5      49       49     45     318\n",
              "1      Ivysaur     16      62       63     60     405\n",
              "2     Venusaur     32      82       83     80     525\n",
              "3   Charmander      5      52       43     65     309\n",
              "4   Charmeleon     16      64       58     80     405\n",
              "5    Charizard     36      84       78    100     534\n",
              "6     Squirtle      5      48       65     43     314\n",
              "7    Wartortle     16      63       80     58     405\n",
              "8    Blastoise     36      83      100     78     530\n",
              "9      Pikachu      5      55       40     90     320\n",
              "10      Raichu     20      90       55    110     500"
            ],
            "text/html": [
              "\n",
              "  <div id=\"df-1526a7b0-59b0-43e1-832c-9c3d44490f82\" class=\"colab-df-container\">\n",
              "    <div>\n",
              "<style scoped>\n",
              "    .dataframe tbody tr th:only-of-type {\n",
              "        vertical-align: middle;\n",
              "    }\n",
              "\n",
              "    .dataframe tbody tr th {\n",
              "        vertical-align: top;\n",
              "    }\n",
              "\n",
              "    .dataframe thead th {\n",
              "        text-align: right;\n",
              "    }\n",
              "</style>\n",
              "<table border=\"1\" class=\"dataframe\">\n",
              "  <thead>\n",
              "    <tr style=\"text-align: right;\">\n",
              "      <th></th>\n",
              "      <th>Pokemon</th>\n",
              "      <th>Level</th>\n",
              "      <th>Attack</th>\n",
              "      <th>Defense</th>\n",
              "      <th>Speed</th>\n",
              "      <th>Health</th>\n",
              "    </tr>\n",
              "  </thead>\n",
              "  <tbody>\n",
              "    <tr>\n",
              "      <th>0</th>\n",
              "      <td>Bulbasaur</td>\n",
              "      <td>5</td>\n",
              "      <td>49</td>\n",
              "      <td>49</td>\n",
              "      <td>45</td>\n",
              "      <td>318</td>\n",
              "    </tr>\n",
              "    <tr>\n",
              "      <th>1</th>\n",
              "      <td>Ivysaur</td>\n",
              "      <td>16</td>\n",
              "      <td>62</td>\n",
              "      <td>63</td>\n",
              "      <td>60</td>\n",
              "      <td>405</td>\n",
              "    </tr>\n",
              "    <tr>\n",
              "      <th>2</th>\n",
              "      <td>Venusaur</td>\n",
              "      <td>32</td>\n",
              "      <td>82</td>\n",
              "      <td>83</td>\n",
              "      <td>80</td>\n",
              "      <td>525</td>\n",
              "    </tr>\n",
              "    <tr>\n",
              "      <th>3</th>\n",
              "      <td>Charmander</td>\n",
              "      <td>5</td>\n",
              "      <td>52</td>\n",
              "      <td>43</td>\n",
              "      <td>65</td>\n",
              "      <td>309</td>\n",
              "    </tr>\n",
              "    <tr>\n",
              "      <th>4</th>\n",
              "      <td>Charmeleon</td>\n",
              "      <td>16</td>\n",
              "      <td>64</td>\n",
              "      <td>58</td>\n",
              "      <td>80</td>\n",
              "      <td>405</td>\n",
              "    </tr>\n",
              "    <tr>\n",
              "      <th>5</th>\n",
              "      <td>Charizard</td>\n",
              "      <td>36</td>\n",
              "      <td>84</td>\n",
              "      <td>78</td>\n",
              "      <td>100</td>\n",
              "      <td>534</td>\n",
              "    </tr>\n",
              "    <tr>\n",
              "      <th>6</th>\n",
              "      <td>Squirtle</td>\n",
              "      <td>5</td>\n",
              "      <td>48</td>\n",
              "      <td>65</td>\n",
              "      <td>43</td>\n",
              "      <td>314</td>\n",
              "    </tr>\n",
              "    <tr>\n",
              "      <th>7</th>\n",
              "      <td>Wartortle</td>\n",
              "      <td>16</td>\n",
              "      <td>63</td>\n",
              "      <td>80</td>\n",
              "      <td>58</td>\n",
              "      <td>405</td>\n",
              "    </tr>\n",
              "    <tr>\n",
              "      <th>8</th>\n",
              "      <td>Blastoise</td>\n",
              "      <td>36</td>\n",
              "      <td>83</td>\n",
              "      <td>100</td>\n",
              "      <td>78</td>\n",
              "      <td>530</td>\n",
              "    </tr>\n",
              "    <tr>\n",
              "      <th>9</th>\n",
              "      <td>Pikachu</td>\n",
              "      <td>5</td>\n",
              "      <td>55</td>\n",
              "      <td>40</td>\n",
              "      <td>90</td>\n",
              "      <td>320</td>\n",
              "    </tr>\n",
              "    <tr>\n",
              "      <th>10</th>\n",
              "      <td>Raichu</td>\n",
              "      <td>20</td>\n",
              "      <td>90</td>\n",
              "      <td>55</td>\n",
              "      <td>110</td>\n",
              "      <td>500</td>\n",
              "    </tr>\n",
              "  </tbody>\n",
              "</table>\n",
              "</div>\n",
              "    <div class=\"colab-df-buttons\">\n",
              "\n",
              "  <div class=\"colab-df-container\">\n",
              "    <button class=\"colab-df-convert\" onclick=\"convertToInteractive('df-1526a7b0-59b0-43e1-832c-9c3d44490f82')\"\n",
              "            title=\"Convert this dataframe to an interactive table.\"\n",
              "            style=\"display:none;\">\n",
              "\n",
              "  <svg xmlns=\"http://www.w3.org/2000/svg\" height=\"24px\" viewBox=\"0 -960 960 960\">\n",
              "    <path d=\"M120-120v-720h720v720H120Zm60-500h600v-160H180v160Zm220 220h160v-160H400v160Zm0 220h160v-160H400v160ZM180-400h160v-160H180v160Zm440 0h160v-160H620v160ZM180-180h160v-160H180v160Zm440 0h160v-160H620v160Z\"/>\n",
              "  </svg>\n",
              "    </button>\n",
              "\n",
              "  <style>\n",
              "    .colab-df-container {\n",
              "      display:flex;\n",
              "      gap: 12px;\n",
              "    }\n",
              "\n",
              "    .colab-df-convert {\n",
              "      background-color: #E8F0FE;\n",
              "      border: none;\n",
              "      border-radius: 50%;\n",
              "      cursor: pointer;\n",
              "      display: none;\n",
              "      fill: #1967D2;\n",
              "      height: 32px;\n",
              "      padding: 0 0 0 0;\n",
              "      width: 32px;\n",
              "    }\n",
              "\n",
              "    .colab-df-convert:hover {\n",
              "      background-color: #E2EBFA;\n",
              "      box-shadow: 0px 1px 2px rgba(60, 64, 67, 0.3), 0px 1px 3px 1px rgba(60, 64, 67, 0.15);\n",
              "      fill: #174EA6;\n",
              "    }\n",
              "\n",
              "    .colab-df-buttons div {\n",
              "      margin-bottom: 4px;\n",
              "    }\n",
              "\n",
              "    [theme=dark] .colab-df-convert {\n",
              "      background-color: #3B4455;\n",
              "      fill: #D2E3FC;\n",
              "    }\n",
              "\n",
              "    [theme=dark] .colab-df-convert:hover {\n",
              "      background-color: #434B5C;\n",
              "      box-shadow: 0px 1px 3px 1px rgba(0, 0, 0, 0.15);\n",
              "      filter: drop-shadow(0px 1px 2px rgba(0, 0, 0, 0.3));\n",
              "      fill: #FFFFFF;\n",
              "    }\n",
              "  </style>\n",
              "\n",
              "    <script>\n",
              "      const buttonEl =\n",
              "        document.querySelector('#df-1526a7b0-59b0-43e1-832c-9c3d44490f82 button.colab-df-convert');\n",
              "      buttonEl.style.display =\n",
              "        google.colab.kernel.accessAllowed ? 'block' : 'none';\n",
              "\n",
              "      async function convertToInteractive(key) {\n",
              "        const element = document.querySelector('#df-1526a7b0-59b0-43e1-832c-9c3d44490f82');\n",
              "        const dataTable =\n",
              "          await google.colab.kernel.invokeFunction('convertToInteractive',\n",
              "                                                    [key], {});\n",
              "        if (!dataTable) return;\n",
              "\n",
              "        const docLinkHtml = 'Like what you see? Visit the ' +\n",
              "          '<a target=\"_blank\" href=https://colab.research.google.com/notebooks/data_table.ipynb>data table notebook</a>'\n",
              "          + ' to learn more about interactive tables.';\n",
              "        element.innerHTML = '';\n",
              "        dataTable['output_type'] = 'display_data';\n",
              "        await google.colab.output.renderOutput(dataTable, element);\n",
              "        const docLink = document.createElement('div');\n",
              "        docLink.innerHTML = docLinkHtml;\n",
              "        element.appendChild(docLink);\n",
              "      }\n",
              "    </script>\n",
              "  </div>\n",
              "\n",
              "\n",
              "<div id=\"df-5df0e0fb-cc7b-42a9-9a4d-f78b53acb40f\">\n",
              "  <button class=\"colab-df-quickchart\" onclick=\"quickchart('df-5df0e0fb-cc7b-42a9-9a4d-f78b53acb40f')\"\n",
              "            title=\"Suggest charts\"\n",
              "            style=\"display:none;\">\n",
              "\n",
              "<svg xmlns=\"http://www.w3.org/2000/svg\" height=\"24px\"viewBox=\"0 0 24 24\"\n",
              "     width=\"24px\">\n",
              "    <g>\n",
              "        <path d=\"M19 3H5c-1.1 0-2 .9-2 2v14c0 1.1.9 2 2 2h14c1.1 0 2-.9 2-2V5c0-1.1-.9-2-2-2zM9 17H7v-7h2v7zm4 0h-2V7h2v10zm4 0h-2v-4h2v4z\"/>\n",
              "    </g>\n",
              "</svg>\n",
              "  </button>\n",
              "\n",
              "<style>\n",
              "  .colab-df-quickchart {\n",
              "      --bg-color: #E8F0FE;\n",
              "      --fill-color: #1967D2;\n",
              "      --hover-bg-color: #E2EBFA;\n",
              "      --hover-fill-color: #174EA6;\n",
              "      --disabled-fill-color: #AAA;\n",
              "      --disabled-bg-color: #DDD;\n",
              "  }\n",
              "\n",
              "  [theme=dark] .colab-df-quickchart {\n",
              "      --bg-color: #3B4455;\n",
              "      --fill-color: #D2E3FC;\n",
              "      --hover-bg-color: #434B5C;\n",
              "      --hover-fill-color: #FFFFFF;\n",
              "      --disabled-bg-color: #3B4455;\n",
              "      --disabled-fill-color: #666;\n",
              "  }\n",
              "\n",
              "  .colab-df-quickchart {\n",
              "    background-color: var(--bg-color);\n",
              "    border: none;\n",
              "    border-radius: 50%;\n",
              "    cursor: pointer;\n",
              "    display: none;\n",
              "    fill: var(--fill-color);\n",
              "    height: 32px;\n",
              "    padding: 0;\n",
              "    width: 32px;\n",
              "  }\n",
              "\n",
              "  .colab-df-quickchart:hover {\n",
              "    background-color: var(--hover-bg-color);\n",
              "    box-shadow: 0 1px 2px rgba(60, 64, 67, 0.3), 0 1px 3px 1px rgba(60, 64, 67, 0.15);\n",
              "    fill: var(--button-hover-fill-color);\n",
              "  }\n",
              "\n",
              "  .colab-df-quickchart-complete:disabled,\n",
              "  .colab-df-quickchart-complete:disabled:hover {\n",
              "    background-color: var(--disabled-bg-color);\n",
              "    fill: var(--disabled-fill-color);\n",
              "    box-shadow: none;\n",
              "  }\n",
              "\n",
              "  .colab-df-spinner {\n",
              "    border: 2px solid var(--fill-color);\n",
              "    border-color: transparent;\n",
              "    border-bottom-color: var(--fill-color);\n",
              "    animation:\n",
              "      spin 1s steps(1) infinite;\n",
              "  }\n",
              "\n",
              "  @keyframes spin {\n",
              "    0% {\n",
              "      border-color: transparent;\n",
              "      border-bottom-color: var(--fill-color);\n",
              "      border-left-color: var(--fill-color);\n",
              "    }\n",
              "    20% {\n",
              "      border-color: transparent;\n",
              "      border-left-color: var(--fill-color);\n",
              "      border-top-color: var(--fill-color);\n",
              "    }\n",
              "    30% {\n",
              "      border-color: transparent;\n",
              "      border-left-color: var(--fill-color);\n",
              "      border-top-color: var(--fill-color);\n",
              "      border-right-color: var(--fill-color);\n",
              "    }\n",
              "    40% {\n",
              "      border-color: transparent;\n",
              "      border-right-color: var(--fill-color);\n",
              "      border-top-color: var(--fill-color);\n",
              "    }\n",
              "    60% {\n",
              "      border-color: transparent;\n",
              "      border-right-color: var(--fill-color);\n",
              "    }\n",
              "    80% {\n",
              "      border-color: transparent;\n",
              "      border-right-color: var(--fill-color);\n",
              "      border-bottom-color: var(--fill-color);\n",
              "    }\n",
              "    90% {\n",
              "      border-color: transparent;\n",
              "      border-bottom-color: var(--fill-color);\n",
              "    }\n",
              "  }\n",
              "</style>\n",
              "\n",
              "  <script>\n",
              "    async function quickchart(key) {\n",
              "      const quickchartButtonEl =\n",
              "        document.querySelector('#' + key + ' button');\n",
              "      quickchartButtonEl.disabled = true;  // To prevent multiple clicks.\n",
              "      quickchartButtonEl.classList.add('colab-df-spinner');\n",
              "      try {\n",
              "        const charts = await google.colab.kernel.invokeFunction(\n",
              "            'suggestCharts', [key], {});\n",
              "      } catch (error) {\n",
              "        console.error('Error during call to suggestCharts:', error);\n",
              "      }\n",
              "      quickchartButtonEl.classList.remove('colab-df-spinner');\n",
              "      quickchartButtonEl.classList.add('colab-df-quickchart-complete');\n",
              "    }\n",
              "    (() => {\n",
              "      let quickchartButtonEl =\n",
              "        document.querySelector('#df-5df0e0fb-cc7b-42a9-9a4d-f78b53acb40f button');\n",
              "      quickchartButtonEl.style.display =\n",
              "        google.colab.kernel.accessAllowed ? 'block' : 'none';\n",
              "    })();\n",
              "  </script>\n",
              "</div>\n",
              "    </div>\n",
              "  </div>\n"
            ],
            "application/vnd.google.colaboratory.intrinsic+json": {
              "type": "dataframe",
              "variable_name": "df",
              "summary": "{\n  \"name\": \"df\",\n  \"rows\": 11,\n  \"fields\": [\n    {\n      \"column\": \"Pokemon\",\n      \"properties\": {\n        \"dtype\": \"string\",\n        \"num_unique_values\": 11,\n        \"samples\": [\n          \"Charizard\",\n          \"Bulbasaur\",\n          \"Pikachu\"\n        ],\n        \"semantic_type\": \"\",\n        \"description\": \"\"\n      }\n    },\n    {\n      \"column\": \"Level\",\n      \"properties\": {\n        \"dtype\": \"number\",\n        \"std\": 12,\n        \"min\": 5,\n        \"max\": 36,\n        \"num_unique_values\": 5,\n        \"samples\": [\n          16,\n          20,\n          32\n        ],\n        \"semantic_type\": \"\",\n        \"description\": \"\"\n      }\n    },\n    {\n      \"column\": \"Attack\",\n      \"properties\": {\n        \"dtype\": \"number\",\n        \"std\": 15,\n        \"min\": 48,\n        \"max\": 90,\n        \"num_unique_values\": 11,\n        \"samples\": [\n          84,\n          49,\n          55\n        ],\n        \"semantic_type\": \"\",\n        \"description\": \"\"\n      }\n    },\n    {\n      \"column\": \"Defense\",\n      \"properties\": {\n        \"dtype\": \"number\",\n        \"std\": 18,\n        \"min\": 40,\n        \"max\": 100,\n        \"num_unique_values\": 11,\n        \"samples\": [\n          78,\n          49,\n          40\n        ],\n        \"semantic_type\": \"\",\n        \"description\": \"\"\n      }\n    },\n    {\n      \"column\": \"Speed\",\n      \"properties\": {\n        \"dtype\": \"number\",\n        \"std\": 21,\n        \"min\": 43,\n        \"max\": 110,\n        \"num_unique_values\": 10,\n        \"samples\": [\n          90,\n          60,\n          43\n        ],\n        \"semantic_type\": \"\",\n        \"description\": \"\"\n      }\n    },\n    {\n      \"column\": \"Health\",\n      \"properties\": {\n        \"dtype\": \"number\",\n        \"std\": 93,\n        \"min\": 309,\n        \"max\": 534,\n        \"num_unique_values\": 9,\n        \"samples\": [\n          320,\n          405,\n          314\n        ],\n        \"semantic_type\": \"\",\n        \"description\": \"\"\n      }\n    }\n  ]\n}"
            }
          },
          "metadata": {},
          "execution_count": 24
        }
      ]
    },
    {
      "cell_type": "code",
      "source": [
        "X = df.drop(['Pokemon', 'Health'], axis=1).values\n",
        "y = df['Health'].values.reshape(-1, 1) / 1000\n",
        "pokemon_names = df['Pokemon'].values"
      ],
      "metadata": {
        "id": "6Ebug8u9qQ83"
      },
      "execution_count": null,
      "outputs": []
    },
    {
      "cell_type": "code",
      "source": [
        "class NeuralNetwork:\n",
        "    def __init__(self, input_size: int, hidden1_size: int, hidden2_size: int, output_size: int, learning_rate: float = 0.1) -> None:\n",
        "        np.random.seed(42)\n",
        "        self.lr = learning_rate\n",
        "\n",
        "        self.W1 = np.random.randn(input_size, hidden1_size) * 0.1\n",
        "        self.b1 = np.zeros((1, hidden1_size))\n",
        "\n",
        "        self.W2 = np.random.randn(hidden1_size, hidden2_size) * 0.1\n",
        "        self.b2 = np.zeros((1, hidden2_size))\n",
        "\n",
        "        self.W3 = np.random.randn(hidden2_size, output_size) * 0.1\n",
        "        self.b3 = np.zeros((1, output_size))"
      ],
      "metadata": {
        "id": "BJXKNnEDZcSz"
      },
      "execution_count": null,
      "outputs": []
    },
    {
      "cell_type": "code",
      "source": [
        "def sigmoid_derivative(x: np.ndarray) -> np.ndarray:\n",
        "    return x * (1 - x)"
      ],
      "metadata": {
        "id": "DJrKZcCZif6b"
      },
      "execution_count": null,
      "outputs": []
    },
    {
      "cell_type": "code",
      "source": [
        "def forward(nn: NeuralNetwork, X: np.ndarray) -> np.ndarray:\n",
        "    nn.z1 = np.dot(X, nn.W1) + nn.b1\n",
        "    nn.a1 = sigmoid(nn.z1)\n",
        "\n",
        "    nn.z2 = np.dot(nn.a1, nn.W2) + nn.b2\n",
        "    nn.a2 = sigmoid(nn.z2)\n",
        "\n",
        "    nn.z3 = np.dot(nn.a2, nn.W3) + nn.b3\n",
        "    nn.a3 = sigmoid(nn.z3)\n",
        "\n",
        "    return nn.a3"
      ],
      "metadata": {
        "id": "I5L13wamihRX"
      },
      "execution_count": 72,
      "outputs": []
    },
    {
      "cell_type": "code",
      "source": [
        "def update_weights(nn: NeuralNetwork, X: np.ndarray, d_output: np.ndarray, d_z2: np.ndarray, d_z1: np.ndarray) -> None:\n",
        "    nn.W3 += nn.a2.T.dot(d_output) * nn.lr\n",
        "    nn.b3 += np.sum(d_output, axis=0, keepdims=True) * nn.lr\n",
        "\n",
        "    nn.W2 += nn.a1.T.dot(d_z2) * nn.lr\n",
        "    nn.b2 += np.sum(d_z2, axis=0, keepdims=True) * nn.lr\n",
        "\n",
        "    nn.W1 += X.T.dot(d_z1) * nn.lr\n",
        "    nn.b1 += np.sum(d_z1, axis=0, keepdims=True) * nn.lr"
      ],
      "metadata": {
        "id": "_arsuAnSnpTT"
      },
      "execution_count": null,
      "outputs": []
    },
    {
      "cell_type": "code",
      "source": [
        "def backward(nn: NeuralNetwork, X: np.ndarray, y: np.ndarray, output: np.ndarray) -> None:\n",
        "    error = y - output\n",
        "    d_output = error * sigmoid_derivative(output)\n",
        "    d_z2 = d_output.dot(nn.W3.T) * sigmoid_derivative(nn.a2)\n",
        "    d_z1 = d_z2.dot(nn.W2.T) * sigmoid_derivative(nn.a1)\n",
        "\n",
        "    update_weights(nn, X, d_output, d_z2, d_z1)"
      ],
      "metadata": {
        "id": "9-1MuK-lZtfZ"
      },
      "execution_count": null,
      "outputs": []
    },
    {
      "cell_type": "code",
      "source": [
        "def mean_squared_error(y_true: np.ndarray, y_pred: np.ndarray) -> float:\n",
        "    return np.mean((y_true - y_pred) ** 2)"
      ],
      "metadata": {
        "id": "kMpk0h2S_m2z"
      },
      "execution_count": null,
      "outputs": []
    },
    {
      "cell_type": "code",
      "source": [
        "def train(nn: NeuralNetwork, X: np.ndarray, y: np.ndarray, epochs: int = 1000) -> None:\n",
        "    for epoch in range(epochs):\n",
        "        output = forward(nn, X)\n",
        "        backward(nn, X, y, output)\n",
        "\n",
        "        loss = mean_squared_error(y, output)\n",
        "\n",
        "        if epoch % 100 == 0:\n",
        "            print(f\"Epoch {epoch}/{epochs}, Loss: {loss:.4f}\")"
      ],
      "metadata": {
        "id": "tnFjBBRxaCdC"
      },
      "execution_count": null,
      "outputs": []
    },
    {
      "cell_type": "code",
      "source": [
        "def predict(nn: NeuralNetwork, X: np.ndarray) -> np.ndarray:\n",
        "    return forward(nn, X)"
      ],
      "metadata": {
        "id": "z4Q-gCE4lbJx"
      },
      "execution_count": null,
      "outputs": []
    },
    {
      "cell_type": "code",
      "source": [
        "nn = NeuralNetwork(\n",
        "    input_size=4,  # количество признаков (Level, Attack, Defense, Speed)\n",
        "    hidden1_size=10,\n",
        "    hidden2_size=6,\n",
        "    output_size=1,  # Прогнозируем только одно значение (Health)\n",
        "    learning_rate=0.5\n",
        ")"
      ],
      "metadata": {
        "id": "6mtdSzSZl8_m"
      },
      "execution_count": 89,
      "outputs": []
    },
    {
      "cell_type": "code",
      "source": [
        "train(nn, X, y, epochs=1000)\n",
        "predictions = predict(nn, X)"
      ],
      "metadata": {
        "id": "g_h-v6CQmCtw",
        "colab": {
          "base_uri": "https://localhost:8080/"
        },
        "outputId": "7d475848-279d-443e-e079-7fe9d464f99e"
      },
      "execution_count": null,
      "outputs": [
        {
          "output_type": "stream",
          "name": "stdout",
          "text": [
            "Epoch 0/1000, Loss: 0.0105\n",
            "Epoch 100/1000, Loss: 0.0078\n",
            "Epoch 200/1000, Loss: 0.0073\n",
            "Epoch 300/1000, Loss: 0.0073\n",
            "Epoch 400/1000, Loss: 0.0078\n",
            "Epoch 500/1000, Loss: 0.0075\n",
            "Epoch 600/1000, Loss: 0.0079\n",
            "Epoch 700/1000, Loss: 0.0034\n",
            "Epoch 800/1000, Loss: 0.0079\n",
            "Epoch 900/1000, Loss: 0.0118\n"
          ]
        }
      ]
    },
    {
      "cell_type": "code",
      "source": [
        "print(f\"{'Pokemon':<15} {'Level':<10} {'Attack':<10} {'Defense':<15} {'Speed':<10} {'Health in dataset':<20} {'Predicted Health':<20}\")\n",
        "for i in range(len(X)):\n",
        "    print(f\"{pokemon_names[i]:<15} {X[i][0]:<10} {X[i][1]:<10} {X[i][2]:<15} {X[i][3]:<10} {y[i][0]*1000:<20.0f} {predictions[i][0]*1000:<20.2f}\")"
      ],
      "metadata": {
        "colab": {
          "base_uri": "https://localhost:8080/"
        },
        "id": "G1_6AigVj-jF",
        "outputId": "671dc334-04de-44a1-cd9f-51a85398073e"
      },
      "execution_count": null,
      "outputs": [
        {
          "output_type": "stream",
          "name": "stdout",
          "text": [
            "Pokemon         Level      Attack     Defense         Speed      Health in dataset    Predicted Health    \n",
            "Bulbasaur       5          49         49              45         318                  415.00              \n",
            "Ivysaur         16         62         63              60         405                  415.00              \n",
            "Venusaur        32         82         83              80         525                  415.00              \n",
            "Charmander      5          52         43              65         309                  415.00              \n",
            "Charmeleon      16         64         58              80         405                  415.00              \n",
            "Charizard       36         84         78              100        534                  415.00              \n",
            "Squirtle        5          48         65              43         314                  415.00              \n",
            "Wartortle       16         63         80              58         405                  415.00              \n",
            "Blastoise       36         83         100             78         530                  415.00              \n",
            "Pikachu         5          55         40              90         320                  415.00              \n",
            "Raichu          20         90         55              110        500                  415.00              \n"
          ]
        }
      ]
    },
    {
      "cell_type": "markdown",
      "source": [
        "**III. Реализовать GPT как в пункте 2**"
      ],
      "metadata": {
        "id": "PGiS96VQIWLh"
      }
    },
    {
      "cell_type": "code",
      "source": [
        "with open('/content/test_1.txt', 'r', encoding='utf-8') as file:\n",
        "    text = file.read()\n",
        "print(text)"
      ],
      "metadata": {
        "id": "YxdUo4ATHNNs",
        "colab": {
          "base_uri": "https://localhost:8080/"
        },
        "outputId": "95e106e8-990f-4c7e-fe66-d79af386a406"
      },
      "execution_count": 398,
      "outputs": [
        {
          "output_type": "stream",
          "name": "stdout",
          "text": [
            "Когда скромняга бард отдыхал от дел\n",
            "С Геральтом из Ривии он песню эту пел.\n",
            "\n",
            "Сразился Белый Волк с велеречивым чертом,\n",
            "Эльфов покромсал несчетные когорты.\n",
            "\n",
            "Сзади подползли, хоть это стыд и срам,\n",
            "Сломали мне лютню, дали по зубам.\n",
            "\n",
            "Целился тот черт мне рогом прямо в глаз,\n",
            "И тут Ведьмак крикнул: \"Вот твой смертный час!\"\n",
            "\n",
            "Ведьмаку заплатите чеканной монетой,\n",
            "Ведьмаку заплатите – зачтется все это вам!\n",
            "\n",
            "Он хоть на край земли отправиться готов,\n",
            "Сразить всех чудовищ, убить всех врагов,\n",
            "\n",
            "Он эльфов всех прогнал за дальний перевал,\n",
            "Высокие горы на вечный привал.\n",
            "\n",
            "Он бьет не в бровь, а в глаз, был ранен много раз,\n",
            "Он людям товарищ, всегда он за нас,\n",
            "\n",
            "К чему эта вражда, никак я не пойму,\n",
            "Он нас защищает – так налейте ж ему!\n",
            "\n",
            "Ведьмаку заплатите чеканной монетой,\n",
            "Ведьмаку заплатите – зачтется все это вам!\n"
          ]
        }
      ]
    },
    {
      "cell_type": "code",
      "source": [
        "tokens = text.lower().replace('\\n', ' ').replace('.', '').split()\n",
        "vocab = sorted(set(tokens))"
      ],
      "metadata": {
        "id": "97Dg0j-WIoQb"
      },
      "execution_count": 399,
      "outputs": []
    },
    {
      "cell_type": "code",
      "source": [
        "word_to_idx = {word: idx for idx, word in enumerate(vocab)}\n",
        "idx_to_word = {idx: word for word, idx in word_to_idx.items()}"
      ],
      "metadata": {
        "id": "8McrYAlKIqB8"
      },
      "execution_count": 400,
      "outputs": []
    },
    {
      "cell_type": "code",
      "source": [
        "vocab_size = len(vocab)\n",
        "embedding_dim = 10"
      ],
      "metadata": {
        "id": "miDz1qjaIrsf"
      },
      "execution_count": 401,
      "outputs": []
    },
    {
      "cell_type": "code",
      "source": [
        "np.random.seed(42)\n",
        "embedding_matrix = np.random.randn(vocab_size, embedding_dim) * 0.1"
      ],
      "metadata": {
        "id": "Vj9OgpvsnOgA"
      },
      "execution_count": 402,
      "outputs": []
    },
    {
      "cell_type": "code",
      "source": [
        "data = [word_to_idx[word] for word in tokens]"
      ],
      "metadata": {
        "id": "HpH-SEaZI13N"
      },
      "execution_count": 403,
      "outputs": []
    },
    {
      "cell_type": "code",
      "source": [
        "X_indices, y_indices = [], []\n",
        "context_size = 3\n",
        "for i in range(len(data) - context_size):\n",
        "    X_indices.append(data[i:i + context_size])\n",
        "    y_indices.append(data[i + context_size])"
      ],
      "metadata": {
        "id": "rYpp9ymhI4Up"
      },
      "execution_count": 405,
      "outputs": []
    },
    {
      "cell_type": "code",
      "source": [
        "X_indices = np.array(X_indices)\n",
        "y_indices = np.array(y_indices)"
      ],
      "metadata": {
        "id": "MrrvBMcII6Nn"
      },
      "execution_count": 406,
      "outputs": []
    },
    {
      "cell_type": "code",
      "source": [
        "print(\"Пример X[0]:\", X_indices[0], [idx_to_word[i] for i in X_indices[0]])\n",
        "print(\"Целевое слово:\", y_indices[0], idx_to_word[y_indices[0]])"
      ],
      "metadata": {
        "colab": {
          "base_uri": "https://localhost:8080/"
        },
        "id": "Hn0uVopDhNtT",
        "outputId": "a2f38805-8388-4fc4-8c34-69d1135e1986"
      },
      "execution_count": 407,
      "outputs": [
        {
          "output_type": "stream",
          "name": "stdout",
          "text": [
            "Пример X[0]: [38 74  2] ['когда', 'скромняга', 'бард']\n",
            "Целевое слово: 56 отдыхал\n"
          ]
        }
      ]
    },
    {
      "cell_type": "code",
      "source": [
        "def get_embedding_batch(batch_indices: np.ndarray, embedding_matrix: np.ndarray) -> np.ndarray:\n",
        "    return embedding_matrix[batch_indices].reshape(batch_indices.shape[0], -1)"
      ],
      "metadata": {
        "id": "Ng6afX1Yn8pi"
      },
      "execution_count": 408,
      "outputs": []
    },
    {
      "cell_type": "code",
      "source": [
        "X_embed = get_embedding_batch(X_indices, embedding_matrix)"
      ],
      "metadata": {
        "id": "RwU4lDilowsR"
      },
      "execution_count": 409,
      "outputs": []
    },
    {
      "cell_type": "code",
      "source": [
        "class MiniGPT:\n",
        "    def __init__(self, vocab_size: int, embed_dim: int, context_size: int, learning_rate: float = 0.01):\n",
        "        self.vocab_size = vocab_size\n",
        "        self.embed_dim = embed_dim\n",
        "        self.context_size = context_size\n",
        "        self.lr = learning_rate\n",
        "        np.random.seed(42)\n",
        "\n",
        "        self.token_embeddings = np.random.randn(vocab_size, embed_dim) * 0.01\n",
        "        self.position_embeddings = np.random.randn(context_size, embed_dim) * 0.01\n",
        "\n",
        "        self.W_q = np.random.randn(embed_dim, embed_dim) * 0.01\n",
        "        self.W_k = np.random.randn(embed_dim, embed_dim) * 0.01\n",
        "        self.W_v = np.random.randn(embed_dim, embed_dim) * 0.01\n",
        "\n",
        "        self.W_out = np.random.randn(embed_dim, vocab_size) * 0.01"
      ],
      "metadata": {
        "id": "VA0kMDrOSP-h"
      },
      "execution_count": 410,
      "outputs": []
    },
    {
      "cell_type": "code",
      "source": [
        "def softmax(x):\n",
        "        exp_x = np.exp(x - np.max(x, axis=-1, keepdims=True))\n",
        "        return exp_x / np.sum(exp_x, axis=-1, keepdims=True)"
      ],
      "metadata": {
        "id": "vgUHRGp0SP5F"
      },
      "execution_count": 411,
      "outputs": []
    },
    {
      "cell_type": "code",
      "source": [
        "def compute_attention(x_emb, W_q, W_k, W_v, context_size, embed_dim):\n",
        "    Q = x_emb @ W_q\n",
        "    K = x_emb @ W_k\n",
        "    V = x_emb @ W_v\n",
        "\n",
        "    scores = Q @ K.transpose(0, 2, 1) / np.sqrt(embed_dim)\n",
        "    mask = np.tril(np.ones((context_size, context_size)))\n",
        "    scores = np.where(mask == 0, -1e9, scores)\n",
        "\n",
        "    attn_weights = softmax(scores)\n",
        "    context = attn_weights @ V\n",
        "    context_mean = np.mean(context, axis=1)\n",
        "\n",
        "    return context_mean, attn_weights, Q, K, V, mask"
      ],
      "metadata": {
        "id": "Rk5q7sK2aO-Z"
      },
      "execution_count": 412,
      "outputs": []
    },
    {
      "cell_type": "code",
      "source": [
        "def compute_logits_and_loss(context_mean, W_out, target_idx):\n",
        "    logits = context_mean @ W_out\n",
        "    probs = softmax(logits)\n",
        "\n",
        "    batch_size = target_idx.shape[0]\n",
        "    log_probs = -np.log(probs[range(batch_size), target_idx] + 1e-9)\n",
        "    loss = np.mean(log_probs)\n",
        "\n",
        "    return logits, probs, loss"
      ],
      "metadata": {
        "id": "zWV-XMg9aO7V"
      },
      "execution_count": 413,
      "outputs": []
    },
    {
      "cell_type": "code",
      "source": [
        "def compute_loss_gradient(probs: np.ndarray, target_idx: np.ndarray) -> np.ndarray:\n",
        "    batch_size = probs.shape[0]\n",
        "    dlogits = probs.copy()\n",
        "    dlogits[np.arange(batch_size), target_idx] -= 1\n",
        "    dlogits /= batch_size\n",
        "\n",
        "    return dlogits"
      ],
      "metadata": {
        "id": "gLf28KWKakey"
      },
      "execution_count": 414,
      "outputs": []
    },
    {
      "cell_type": "code",
      "source": [
        "def grad_output_weights_and_context(dlogits: np.ndarray, W_out: np.ndarray, context_mean: np.ndarray, context_size: int):\n",
        "    dW_out = context_mean.T @ dlogits\n",
        "    dcontext_mean = dlogits @ W_out.T\n",
        "    dcontext = np.repeat(dcontext_mean[:, None, :], context_size, axis=1) / context_size\n",
        "\n",
        "    return dW_out, dcontext"
      ],
      "metadata": {
        "id": "XfbuqXDuakcT"
      },
      "execution_count": 415,
      "outputs": []
    },
    {
      "cell_type": "code",
      "source": [
        "def grad_attention_and_values(dcontext: np.ndarray, attn_weights: np.ndarray, V: np.ndarray, mask: np.ndarray, Q: np.ndarray, K: np.ndarray, embed_dim: int):\n",
        "    dattn_weights = dcontext @ V.transpose(0, 2, 1)\n",
        "    dV = attn_weights.transpose(0, 2, 1) @ dcontext\n",
        "\n",
        "    dscores = dattn_weights * attn_weights * (1 - attn_weights)\n",
        "    dscores = np.where(mask == 0, 0, dscores)\n",
        "\n",
        "    dQ = dscores @ K / np.sqrt(embed_dim)\n",
        "    dK = dscores.transpose(0, 2, 1) @ Q / np.sqrt(embed_dim)\n",
        "\n",
        "    return dQ, dK, dV"
      ],
      "metadata": {
        "id": "z9YZzomBakZx"
      },
      "execution_count": 416,
      "outputs": []
    },
    {
      "cell_type": "code",
      "source": [
        "def grad_embeddings_and_weights(x_emb: np.ndarray, dQ, dK, dV, W_q, W_k, W_v):\n",
        "    dx_emb_q = dQ @ W_q.T\n",
        "    dW_q = x_emb.transpose(0, 2, 1) @ dQ\n",
        "\n",
        "    dx_emb_k = dK @ W_k.T\n",
        "    dW_k = x_emb.transpose(0, 2, 1) @ dK\n",
        "\n",
        "    dx_emb_v = dV @ W_v.T\n",
        "    dW_v = x_emb.transpose(0, 2, 1) @ dV\n",
        "\n",
        "    dx_emb = dx_emb_q + dx_emb_k + dx_emb_v\n",
        "\n",
        "    return dx_emb, dW_q, dW_k, dW_v"
      ],
      "metadata": {
        "id": "E7I6g7nLaqJ-"
      },
      "execution_count": 417,
      "outputs": []
    },
    {
      "cell_type": "code",
      "source": [
        "def backward_pass(x_emb, Q, K, V, attn_weights, probs, target_idx, W_out, W_q, W_k, W_v,\n",
        "                  context_size, embed_dim, mask):\n",
        "\n",
        "    context_mean = np.mean(V, axis=1)\n",
        "    dlogits = compute_loss_gradient(probs, target_idx)\n",
        "    dW_out, dcontext = grad_output_weights_and_context(dlogits, W_out, context_mean, context_size)\n",
        "\n",
        "    dQ, dK, dV = grad_attention_and_values(dcontext, attn_weights, V, mask, Q, K, embed_dim)\n",
        "\n",
        "    dx_emb, dW_q, dW_k, dW_v = grad_embeddings_and_weights(x_emb, dQ, dK, dV, W_q, W_k, W_v)\n",
        "\n",
        "    return dx_emb, dW_out, dW_q, dW_k, dW_v"
      ],
      "metadata": {
        "id": "o1a3vcJCaqIG"
      },
      "execution_count": 418,
      "outputs": []
    },
    {
      "cell_type": "code",
      "source": [
        "def update_embeddings(x_idx, dx_emb, token_embeddings, position_embeddings, context_size, lr):\n",
        "    dtoken_embeddings = np.zeros_like(token_embeddings)\n",
        "    dposition_embeddings = np.zeros_like(position_embeddings)\n",
        "\n",
        "    batch_size = x_idx.shape[0]\n",
        "    for i in range(batch_size):\n",
        "        for j in range(context_size):\n",
        "            dtoken_embeddings[x_idx[i, j]] += dx_emb[i, j]\n",
        "            dposition_embeddings[j] += dx_emb[i, j]\n",
        "\n",
        "    token_embeddings -= lr * dtoken_embeddings\n",
        "    position_embeddings -= lr * dposition_embeddings\n",
        "\n",
        "    return token_embeddings, position_embeddings"
      ],
      "metadata": {
        "id": "JsNJsDn3aO4q"
      },
      "execution_count": 419,
      "outputs": []
    },
    {
      "cell_type": "code",
      "source": [
        "def train_step(mg: MiniGPT, x_idx: np.ndarray, target_idx: np.ndarray) -> float:\n",
        "    x_emb = mg.token_embeddings[x_idx] + mg.position_embeddings[np.arange(mg.context_size)]\n",
        "\n",
        "    context_mean, attn_weights, Q, K, V, mask = compute_attention(\n",
        "        x_emb, mg.W_q, mg.W_k, mg.W_v, mg.context_size, mg.embed_dim\n",
        "    )\n",
        "\n",
        "    logits, probs, loss = compute_logits_and_loss(context_mean, mg.W_out, target_idx)\n",
        "\n",
        "    predicted_word = idx_to_word[np.argmax(probs[0])]\n",
        "    actual_word = idx_to_word[target_idx[0]]\n",
        "    print(f\"Предсказанное слово: {predicted_word}, Реальное слово: {actual_word}\")\n",
        "\n",
        "    dx_emb, dW_out, dW_q, dW_k, dW_v = backward_pass(\n",
        "        x_emb, Q, K, V, attn_weights, probs, target_idx,\n",
        "        mg.W_out, mg.W_q, mg.W_k, mg.W_v,\n",
        "        mg.context_size, mg.embed_dim, mask\n",
        "    )\n",
        "\n",
        "    mg.token_embeddings, mg.position_embeddings = update_embeddings(\n",
        "        x_idx, dx_emb, mg.token_embeddings, mg.position_embeddings, mg.context_size, mg.lr\n",
        "    )\n",
        "\n",
        "    mg.W_out -= mg.lr * dW_out\n",
        "    mg.W_q -= mg.lr * np.mean(dW_q, axis=0)\n",
        "    mg.W_k -= mg.lr * np.mean(dW_k, axis=0)\n",
        "    mg.W_v -= mg.lr * np.mean(dW_v, axis=0)\n",
        "\n",
        "    return loss"
      ],
      "metadata": {
        "id": "H2kwIvbGaO2U"
      },
      "execution_count": 420,
      "outputs": []
    },
    {
      "cell_type": "code",
      "source": [
        "def train_gpt_model(mg: MiniGPT, X, y, epochs=100, batch_size=32):\n",
        "    for epoch in range(epochs):\n",
        "        total_loss = 0\n",
        "        indices = np.random.permutation(len(X))\n",
        "        X_shuffled = X[indices]\n",
        "        y_shuffled = y[indices]\n",
        "\n",
        "        print(f\"\\nEpoch {epoch+1} - Token Embeddings (before): {mg.token_embeddings[0][:5]}\")  # первые 5 элементов\n",
        "        print(f\"Epoch {epoch+1} - Position Embeddings (before): {mg.position_embeddings[0][:5]}\\n\")\n",
        "\n",
        "        for i in range(0, len(X_shuffled), batch_size):\n",
        "            batch_X = X_shuffled[i:i+batch_size]\n",
        "            batch_y = y_shuffled[i:i+batch_size]\n",
        "\n",
        "            loss = train_step(mg, batch_X, batch_y)\n",
        "            total_loss += loss\n",
        "\n",
        "        print(f\"\\nEpoch {epoch+1} - Token Embeddings (after): {mg.token_embeddings[0][:5]}\")  # первые 5 элементов\n",
        "        print(f\"Epoch {epoch+1} - Position Embeddings (after): {mg.position_embeddings[0][:5]}\\n\")\n",
        "\n",
        "        print(f\"Epoch {epoch+1}/{epochs}, Average Loss: {total_loss / len(X)}\\n\\n\", end='---'*30+'\\n')\n"
      ],
      "metadata": {
        "id": "Z_ec0nI-Sx2s"
      },
      "execution_count": 421,
      "outputs": []
    },
    {
      "cell_type": "code",
      "source": [
        "mg = MiniGPT(\n",
        "    vocab_size,\n",
        "    embed_dim=128,\n",
        "    context_size=3\n",
        ")"
      ],
      "metadata": {
        "id": "VwLglP0WThy8"
      },
      "execution_count": 422,
      "outputs": []
    },
    {
      "cell_type": "code",
      "source": [
        "train_gpt_model(mg, X_gpt, y_gpt, epochs=10)"
      ],
      "metadata": {
        "colab": {
          "base_uri": "https://localhost:8080/"
        },
        "id": "CPh6moH4Sx0M",
        "outputId": "c3bc2b0c-eb28-44ef-9a5e-6f2e1058c954"
      },
      "execution_count": 423,
      "outputs": [
        {
          "output_type": "stream",
          "name": "stdout",
          "text": [
            "\n",
            "Epoch 1 - Token Embeddings (before): [ 0.00496714 -0.00138264  0.00647689  0.0152303  -0.00234153]\n",
            "Epoch 1 - Position Embeddings (before): [-0.01478674 -0.02229677 -0.00719472 -0.00625107  0.00943159]\n",
            "\n",
            "Предсказанное слово: всех, Реальное слово: раз,\n",
            "Предсказанное слово: зачтется, Реальное слово: это\n",
            "Предсказанное слово: волк, Реальное слово: это\n",
            "Предсказанное слово: \"вот, Реальное слово: защищает\n",
            "Предсказанное слово: зачтется, Реальное слово: волк\n",
            "\n",
            "Epoch 1 - Token Embeddings (after): [ 0.00496717 -0.00138252  0.00647669  0.01523071 -0.00234196]\n",
            "Epoch 1 - Position Embeddings (after): [-0.01478566 -0.02229849 -0.00719055 -0.00625254  0.00943354]\n",
            "\n",
            "Epoch 1/10, Average Loss: 0.17481506774120867\n",
            "\n",
            "------------------------------------------------------------------------------------------\n",
            "\n",
            "Epoch 2 - Token Embeddings (before): [ 0.00496717 -0.00138252  0.00647669  0.01523071 -0.00234196]\n",
            "Epoch 2 - Position Embeddings (before): [-0.01478566 -0.02229849 -0.00719055 -0.00625254  0.00943354]\n",
            "\n",
            "Предсказанное слово: зачтется, Реальное слово: зубам\n",
            "Предсказанное слово: крикнул:, Реальное слово: зачтется\n",
            "Предсказанное слово: черт, Реальное слово: не\n",
            "Предсказанное слово: черт, Реальное слово: –\n",
            "Предсказанное слово: зачтется, Реальное слово: за\n",
            "\n",
            "Epoch 2 - Token Embeddings (after): [ 0.0049672  -0.00138239  0.00647649  0.01523111 -0.00234239]\n",
            "Epoch 2 - Position Embeddings (after): [-0.01478699 -0.02229921 -0.00719348 -0.0062525   0.00943391]\n",
            "\n",
            "Epoch 2/10, Average Loss: 0.17481533658154805\n",
            "\n",
            "------------------------------------------------------------------------------------------\n",
            "\n",
            "Epoch 3 - Token Embeddings (before): [ 0.0049672  -0.00138239  0.00647649  0.01523111 -0.00234239]\n",
            "Epoch 3 - Position Embeddings (before): [-0.01478699 -0.02229921 -0.00719348 -0.0062525   0.00943391]\n",
            "\n",
            "Предсказанное слово: зачтется, Реальное слово: ведьмаку\n",
            "Предсказанное слово: зачтется, Реальное слово: он\n",
            "Предсказанное слово: волк, Реальное слово: вам!\n",
            "Предсказанное слово: так, Реальное слово: и\n",
            "Предсказанное слово: людям, Реальное слово: и\n",
            "\n",
            "Epoch 3 - Token Embeddings (after): [ 0.00496722 -0.00138227  0.00647629  0.01523152 -0.00234282]\n",
            "Epoch 3 - Position Embeddings (after): [-0.01478892 -0.02229544 -0.00719295 -0.00625671  0.00943158]\n",
            "\n",
            "Epoch 3/10, Average Loss: 0.17481523337492635\n",
            "\n",
            "------------------------------------------------------------------------------------------\n",
            "\n",
            "Epoch 4 - Token Embeddings (before): [ 0.00496722 -0.00138227  0.00647629  0.01523152 -0.00234282]\n",
            "Epoch 4 - Position Embeddings (before): [-0.01478892 -0.02229544 -0.00719295 -0.00625671  0.00943158]\n",
            "\n",
            "Предсказанное слово: много, Реальное слово: на\n",
            "Предсказанное слово: ведьмак, Реальное слово: черт\n",
            "Предсказанное слово: на, Реальное слово: ранен\n",
            "Предсказанное слово: крикнул:, Реальное слово: зачтется\n",
            "Предсказанное слово: черт, Реальное слово: край\n",
            "\n",
            "Epoch 4 - Token Embeddings (after): [ 0.00496842 -0.00138224  0.00647511  0.01523451 -0.00234606]\n",
            "Epoch 4 - Position Embeddings (after): [-0.01478567 -0.02229531 -0.00719413 -0.00625604  0.00942664]\n",
            "\n",
            "Epoch 4/10, Average Loss: 0.17481557253407617\n",
            "\n",
            "------------------------------------------------------------------------------------------\n",
            "\n",
            "Epoch 5 - Token Embeddings (before): [ 0.00496842 -0.00138224  0.00647511  0.01523451 -0.00234606]\n",
            "Epoch 5 - Position Embeddings (before): [-0.01478567 -0.02229531 -0.00719413 -0.00625604  0.00942664]\n",
            "\n",
            "Предсказанное слово: на, Реальное слово: ранен\n",
            "Предсказанное слово: всех, Реальное слово: мне\n",
            "Предсказанное слово: зачтется, Реальное слово: всех\n",
            "Предсказанное слово: целился, Реальное слово: людям\n",
            "Предсказанное слово: подползли,, Реальное слово: все\n",
            "\n",
            "Epoch 5 - Token Embeddings (after): [ 0.00496845 -0.00138211  0.00647491  0.01523492 -0.00234649]\n",
            "Epoch 5 - Position Embeddings (after): [-0.0147818  -0.0223001  -0.00720014 -0.00625525  0.00942995]\n",
            "\n",
            "Epoch 5/10, Average Loss: 0.17481557743643733\n",
            "\n",
            "------------------------------------------------------------------------------------------\n",
            "\n",
            "Epoch 6 - Token Embeddings (before): [ 0.00496845 -0.00138211  0.00647491  0.01523492 -0.00234649]\n",
            "Epoch 6 - Position Embeddings (before): [-0.0147818  -0.0223001  -0.00720014 -0.00625525  0.00942995]\n",
            "\n",
            "Предсказанное слово: крикнул:, Реальное слово: налейте\n",
            "Предсказанное слово: зачтется, Реальное слово: ведьмаку\n",
            "Предсказанное слово: стыд, Реальное слово: никак\n",
            "Предсказанное слово: зачтется, Реальное слово: целился\n",
            "Предсказанное слово: ведьмак, Реальное слово: он\n",
            "\n",
            "Epoch 6 - Token Embeddings (after): [ 0.00496847 -0.00138198  0.00647472  0.01523533 -0.00234692]\n",
            "Epoch 6 - Position Embeddings (after): [-0.01477895 -0.02230545 -0.00720141 -0.0062553   0.00943091]\n",
            "\n",
            "Epoch 6/10, Average Loss: 0.1748155431104447\n",
            "\n",
            "------------------------------------------------------------------------------------------\n",
            "\n",
            "Epoch 7 - Token Embeddings (before): [ 0.00496847 -0.00138198  0.00647472  0.01523533 -0.00234692]\n",
            "Epoch 7 - Position Embeddings (before): [-0.01477895 -0.02230545 -0.00720141 -0.0062553   0.00943091]\n",
            "\n",
            "Предсказанное слово: зачтется, Реальное слово: всех\n",
            "Предсказанное слово: зачтется, Реальное слово: заплатите\n",
            "Предсказанное слово: всех, Реальное слово: срам,\n",
            "Предсказанное слово: волк, Реальное слово: ж\n",
            "Предсказанное слово: ведьмак, Реальное слово: он\n",
            "\n",
            "Epoch 7 - Token Embeddings (after): [ 0.0049685  -0.00138186  0.00647452  0.01523574 -0.00234735]\n",
            "Epoch 7 - Position Embeddings (after): [-0.01477997 -0.02230888 -0.00720877 -0.00625447  0.00943366]\n",
            "\n",
            "Epoch 7/10, Average Loss: 0.174815563529056\n",
            "\n",
            "------------------------------------------------------------------------------------------\n",
            "\n",
            "Epoch 8 - Token Embeddings (before): [ 0.0049685  -0.00138186  0.00647452  0.01523574 -0.00234735]\n",
            "Epoch 8 - Position Embeddings (before): [-0.01477997 -0.02230888 -0.00720877 -0.00625447  0.00943366]\n",
            "\n",
            "Предсказанное слово: крикнул:, Реальное слово: так\n",
            "Предсказанное слово: подползли,, Реальное слово: товарищ,\n",
            "Предсказанное слово: крикнул:, Реальное слово: зачтется\n",
            "Предсказанное слово: черт, Реальное слово: край\n",
            "Предсказанное слово: черт, Реальное слово: в\n",
            "\n",
            "Epoch 8 - Token Embeddings (after): [ 0.00496853 -0.00138173  0.00647432  0.01523614 -0.00234778]\n",
            "Epoch 8 - Position Embeddings (after): [-0.01478056 -0.02230777 -0.00721022 -0.00625938  0.00943217]\n",
            "\n",
            "Epoch 8/10, Average Loss: 0.17481561332908963\n",
            "\n",
            "------------------------------------------------------------------------------------------\n",
            "\n",
            "Epoch 9 - Token Embeddings (before): [ 0.00496853 -0.00138173  0.00647432  0.01523614 -0.00234778]\n",
            "Epoch 9 - Position Embeddings (before): [-0.01478056 -0.02230777 -0.00721022 -0.00625938  0.00943217]\n",
            "\n",
            "Предсказанное слово: зачтется, Реальное слово: ведьмаку\n",
            "Предсказанное слово: стыд, Реальное слово: никак\n",
            "Предсказанное слово: рогом, Реальное слово: в\n",
            "Предсказанное слово: рогом, Реальное слово: сразился\n",
            "Предсказанное слово: подползли,, Реальное слово: отдыхал\n",
            "\n",
            "Epoch 9 - Token Embeddings (after): [ 0.00496856 -0.00138161  0.00647412  0.01523655 -0.00234821]\n",
            "Epoch 9 - Position Embeddings (after): [-0.0147824  -0.02230983 -0.00721196 -0.00626149  0.00943507]\n",
            "\n",
            "Epoch 9/10, Average Loss: 0.17481553477291956\n",
            "\n",
            "------------------------------------------------------------------------------------------\n",
            "\n",
            "Epoch 10 - Token Embeddings (before): [ 0.00496856 -0.00138161  0.00647412  0.01523655 -0.00234821]\n",
            "Epoch 10 - Position Embeddings (before): [-0.0147824  -0.02230983 -0.00721196 -0.00626149  0.00943507]\n",
            "\n",
            "Предсказанное слово: стыд, Реальное слово: мне\n",
            "Предсказанное слово: зачтется, Реальное слово: всех\n",
            "Предсказанное слово: зачтется, Реальное слово: смертный\n",
            "Предсказанное слово: зачтется, Реальное слово: час!\"\n",
            "Предсказанное слово: \"вот, Реальное слово: защищает\n",
            "\n",
            "Epoch 10 - Token Embeddings (after): [ 0.00496858 -0.00138148  0.00647393  0.01523696 -0.00234864]\n",
            "Epoch 10 - Position Embeddings (after): [-0.0147802  -0.02231216 -0.00720876 -0.00626169  0.00943907]\n",
            "\n",
            "Epoch 10/10, Average Loss: 0.1748157051466466\n",
            "\n",
            "------------------------------------------------------------------------------------------\n"
          ]
        }
      ]
    }
  ]
}